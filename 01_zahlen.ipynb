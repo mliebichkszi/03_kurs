{
 "cells": [
  {
   "cell_type": "markdown",
   "id": "3e49d541-3d47-4856-b09b-39515993296e",
   "metadata": {},
   "source": [
    "# Zahlen"
   ]
  },
  {
   "cell_type": "markdown",
   "id": "96264af0-d68c-4bc5-bebd-0357fb2ac129",
   "metadata": {},
   "source": [
    "## 🎯 Lernziel\n",
    "Am Ende dieser Lektion kannst du Python für **grundlegende mathematische Operationen** verwenden und **Variablen** zum vorübergehenden Speichern und Wiederverwenden von Daten nutzen. Zusätzlich zu `print()` verwenden Sie `input()`, beides vordefinierte Python-Funktionen. Damit kannst du interaktive Computerprogramme erstellen, in denen Benutzer Informationen eingeben können. Du lernst **Datentypkonvertierungen** kennen, mit denen du mit **Zeichenfolgen** und **Zahlen** arbeiten kannst.<br>\n",
    "**Du wirst selbst herausfinden, warum \"deine\" 0.1 nicht eine 0.1 für den Computer ist und was der Grund dafür ist.**"
   ]
  },
  {
   "cell_type": "code",
   "execution_count": 1,
   "id": "1f2c1227-1df0-4f0e-bc78-68831db779b2",
   "metadata": {},
   "outputs": [],
   "source": [
    "# Zahlen eingeben und konvertieren"
   ]
  },
  {
   "cell_type": "code",
   "execution_count": null,
   "id": "4cb19420-26ea-460e-ad15-70e6545b2041",
   "metadata": {},
   "outputs": [],
   "source": [
    "# Mit Zahlen rechnen"
   ]
  },
  {
   "cell_type": "code",
   "execution_count": null,
   "id": "d478fcab-68f5-4171-bb74-759cbf4f321e",
   "metadata": {},
   "outputs": [],
   "source": [
    "# Zahlen runden"
   ]
  },
  {
   "cell_type": "code",
   "execution_count": 3,
   "id": "4d116594-91fc-4f6a-acad-a0393a34b471",
   "metadata": {},
   "outputs": [],
   "source": [
    "# Erstelle ein kleines Notenberechnungs-Programm, das 3 Noten für ein Fach entgegennimmt und den Durchschnitt ausgibt."
   ]
  },
  {
   "cell_type": "markdown",
   "id": "41c0724a-26eb-4de4-98b6-0624d0480b6f",
   "metadata": {},
   "source": [
    "<details>\n",
    "<summary style=\"border: 1px solid; border-radius: 3px; padding: 5px; display: inline-block; cursor: pointer;\">\n",
    "💡 Hinweis\n",
    "</summary>\n",
    "<p>\n",
    "\n",
    "Um den Durchschnitt mehrerer Zahlen zu berechnen, addierst du zunächst alle Zahlen. Anschliessend dividierst du die Summe durch die Anzahl der Zahlen, mit denen du begonnen hast. In unserem Fall wäre das `3`. \n",
    "\n",
    "_Denke daran: Bei mathematischen Operationen kannst du Klammern verwenden!_\n",
    "    \n",
    "</p>\n",
    "</details>"
   ]
  },
  {
   "cell_type": "markdown",
   "id": "365f811c-805d-46fa-b0ae-b3b87ea8f507",
   "metadata": {},
   "source": [
    "## Ganze Zahlen, Gleitkommazahlen und Dezimalzahlen"
   ]
  },
  {
   "cell_type": "markdown",
   "id": "af83a4b8-fe91-41b4-aede-c243cdbf2759",
   "metadata": {},
   "source": [
    "Okay, stell dir vor, wir wollen mit dem Computer Zahlen darstellen, die Nachkommastellen haben – also nicht nur ganze Zahlen wie **5**, sondern auch **5,25** oder **3,14159**.\n",
    "\n",
    "Dabei gibt es zwei wichtige Arten, wie ein Computer das machen kann: **Float** und **Dezimalzahl**.\n",
    "\n",
    "\n",
    "### 1. Float (Englisch: *floating point number*)\n",
    "\n",
    "* Das ist so etwas wie eine **Näherung** der Zahl.\n",
    "* Der Computer speichert sie in einer Art **wissenschaftlicher Notation**, ähnlich wie:\n",
    "\n",
    "  $$\n",
    "  3,14159 \\approx 3,141590118...\n",
    "  $$\n",
    "* Das bedeutet: Der Wert ist sehr genau, aber nicht immer **100% exakt**.\n",
    "* Besonders bei \"krummen\" Zahlen wie **0,1** kann es sein, dass der Computer sie nur ungefähr speichern kann.\n",
    "  Beispiel: Im Computer könnte **0,1** in Wirklichkeit sowas wie **0,10000000000000001** sein.\n",
    "* Vorteil: Man kann mit sehr großen und sehr kleinen Zahlen gut rechnen.\n",
    "* Nachteil: Es kann zu **kleinen Rundungsfehlern** kommen.\n",
    "\n",
    "\n",
    "### 2. Dezimalzahl (Englisch: *decimal number*)\n",
    "\n",
    "* Eine Dezimalzahl wird so gespeichert, wie wir Menschen es kennen – also **genau** mit den Nachkommastellen.\n",
    "* **0,1** ist dann auch wirklich **0,1** und nicht eine Annäherung.\n",
    "* Vorteil: Exakt bei Geldbeträgen oder Messwerten.\n",
    "* Nachteil: Kann langsamer sein und braucht mehr Speicherplatz im Computer.\n"
   ]
  },
  {
   "cell_type": "markdown",
   "id": "889c1cbb-9436-4343-8a03-adaa099d5290",
   "metadata": {},
   "source": [
    "## Aufgaben"
   ]
  },
  {
   "cell_type": "code",
   "execution_count": 20,
   "id": "38e3e6dd-a43d-43e3-bc8b-20dd84707fc4",
   "metadata": {},
   "outputs": [],
   "source": [
    "# Gib die Dezimalzahl 0.1 in Python aus\n",
    "# Bestimme den Typ der Ausgabe\n",
    "# Was stellst du fest?"
   ]
  },
  {
   "cell_type": "code",
   "execution_count": 10,
   "id": "07d0b332-f34d-4643-b719-ae4700708649",
   "metadata": {},
   "outputs": [],
   "source": [
    "# Berechne die Summe von 0.1 + 0.2 sowie von 0.1 + 0.4 und weise sie den Variablen x bzw. y zu.\n",
    "# Gib x und y aus\n",
    "# Was stellst du fest?"
   ]
  },
  {
   "cell_type": "markdown",
   "id": "03303ee3-18db-4328-89d1-25b118f3f78d",
   "metadata": {},
   "source": [
    "<details>\n",
    "<summary style=\"border: 1px solid; border-radius: 3px; padding: 5px; display: inline-block; cursor: pointer;\">\n",
    "💡 Tipp\n",
    "</summary>\n",
    "<p>\n",
    "\n",
    "Frage einen Chatbot nach dem Grund für die Phänomene, die du beobachtet hast. Mache in diesem Notizbuch Notizen in einer Markdown-Zelle.\n",
    "    \n",
    "</p>\n",
    "</details>"
   ]
  },
  {
   "cell_type": "code",
   "execution_count": 27,
   "id": "00e2a214-3410-4aa4-b96a-0d2383e4a807",
   "metadata": {},
   "outputs": [],
   "source": [
    "# Schreibe ein Programm, bei dem eine Benutzerin / ein Benutzer den Fahrenheit-Wert eingeben kann und das Programm den Celsius-Wert dazu zurückgibt."
   ]
  },
  {
   "cell_type": "markdown",
   "id": "6c1534e3-2dc5-4d57-8fc5-35ba39902202",
   "metadata": {},
   "source": [
    "<details>\n",
    "<summary style=\"border: 1px solid; border-radius: 3px; padding: 5px; display: inline-block; cursor: pointer;\">\n",
    "💡 Tipp\n",
    "</summary>\n",
    "<p>\n",
    "\n",
    "Verwende die `input()` Funktion: \n",
    "\n",
    "```python\n",
    "fahrenheit = input()\n",
    "\n",
    "print(fahrenheit)\n",
    "\n",
    "celsius = (fahrenheit - 32) * 5/9\n",
    "\n",
    "print(celsius)\n",
    "```\n",
    "<br />\n",
    "\n",
    "Damit `(fahrenheit - 32) * 5/9` funktioniert, muss die `fahrenheit` Variable in eine Zahl umgewandelt werden. Um eine Variable in einen Float umzuwandeln, kannst du den Wert in Klammern der `float()` Funktion mitgeben: `float(deine_variable)`.\n",
    "\n",
    "Du kannst auch `int()` verwenden. Probiere beides aus. Was ist der Unterschied?\n",
    "\n",
    "</p>\n",
    "</details>"
   ]
  },
  {
   "cell_type": "code",
   "execution_count": null,
   "id": "04e55bb3-b1b4-4b62-9a1c-f686fc30ab70",
   "metadata": {},
   "outputs": [],
   "source": [
    "# Schreibe ein Programm, das du auf dem Computer ausführen kannst. Das Programm soll Meilen in Kilometer umwandeln können."
   ]
  }
 ],
 "metadata": {
  "kernelspec": {
   "display_name": "Python 3 (ipykernel)",
   "language": "python",
   "name": "python3"
  },
  "language_info": {
   "codemirror_mode": {
    "name": "ipython",
    "version": 3
   },
   "file_extension": ".py",
   "mimetype": "text/x-python",
   "name": "python",
   "nbconvert_exporter": "python",
   "pygments_lexer": "ipython3",
   "version": "3.9.7"
  }
 },
 "nbformat": 4,
 "nbformat_minor": 5
}
