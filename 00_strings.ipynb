{
 "cells": [
  {
   "cell_type": "markdown",
   "id": "7d992e5b-1546-4b69-af67-4b3c5ba3ac20",
   "metadata": {},
   "source": [
    "# Strings\n",
    "Strings sind Zeichenketten wie bspw. \"Hallo ist ein Wort mit 5 Buchstaben\".\n",
    "Hier lernst du mit Python Strings zu manipulieren."
   ]
  },
  {
   "cell_type": "code",
   "execution_count": 2,
   "id": "38733680-e276-4f3c-890a-da110c920640",
   "metadata": {},
   "outputs": [
    {
     "ename": "SyntaxError",
     "evalue": "invalid syntax (4215934437.py, line 8)",
     "output_type": "error",
     "traceback": [
      "\u001b[0;36m  Cell \u001b[0;32mIn[2], line 8\u001b[0;36m\u001b[0m\n\u001b[0;31m    type(name)\u001b[0m\n\u001b[0m    ^\u001b[0m\n\u001b[0;31mSyntaxError\u001b[0m\u001b[0;31m:\u001b[0m invalid syntax\n"
     ]
    }
   ],
   "source": [
    "# Strings werden in Anführungs-/Schlusszeichen gesetzt.\n",
    "# Hier speichern wir einen String in einer Variable \n",
    "# Eine Variable ist ein Datenspeicher\n",
    "\n",
    "wort = \"hallo\"\n",
    "name = input(\"Wie heisst du?\")\n",
    "print(wort,name\n",
    "type(name)\n"
   ]
  },
  {
   "cell_type": "markdown",
   "id": "f2b91cdf-69c3-4efd-a5ce-9e68c8ae5b56",
   "metadata": {},
   "source": [
    "### 😱 Hilfe! Ich habe eine Fehlermeldung erhalten!\n",
    "\n",
    "**🚀 Keine Panik!**\n",
    "\n",
    "Auch wenn sie rot, gefährlich und manchmal ziemlich verwirrend aussehen, sind **Fehlermeldungen eigentlich eine gute Sache**. Sie zeigen Ihnen nicht nur, dass etwas schiefgelaufen ist, sondern auch, wie Sie feststellen können, was schiefgelaufen ist. \n",
    "\n",
    "Fehler passieren ständig, und Sie werden definitiv auf sie stoßen. Das Erste, was Sie also jetzt wissen sollten, ist: **Haben Sie keine Angst, etwas kaputt zu machen!** Sie lernen gerade. Dies ist der beste Zeitpunkt, um auf Probleme zu stoßen, denn sie helfen Ihnen beim Lernen. \n",
    "\n",
    "Ihr erster Schritt sollte immer sein, die Fehlermeldung zu lesen und zu versuchen, zu verstehen, was sie Ihnen sagen will. **In der Regel enthält eine Fehlermeldung die wichtigsten Informationen am Anfang oder am Ende.** Aber möglicherweise müssen Sie auch ein wenig suchen.\n",
    "\n",
    "Der letzte Code-Block oben sollte beispielsweise einen Fehler mit der Meldung „SyntaxError: incomplete input” auslösen. Außerdem wird angezeigt, wo der Fehler aufgetreten ist: \n",
    "\n",
    "```python\n",
    "type(name)\n",
    "^\n",
    "```\n",
    "Können Sie erkennen, was Ihnen der Fehler mitteilen möchte? Versuchen Sie, ihn zu beheben, und führen Sie den Code dann erneut aus.\n",
    "\n",
    "Der Begriff „Syntax“ bezieht sich auf die Art und Weise, wie die Sprache geschrieben wird, einschließlich der Zeichen (Buchstaben oder Ziffern), der Zeichensetzung und der Leerzeichen, die zum Schreiben von Codeanweisungen verwendet werden – mehr dazu weiter unten. Die Tatsache, dass es sich um einen „SyntaxError” handelt, gibt Ihnen einen ersten Hinweis darauf, was möglicherweise schiefgelaufen ist, während „incomplete input” Ihnen sagt, dass ein Teil des von Ihnen geschriebenen Codes „unvollständig” zu sein scheint. Schließlich geben Fehler immer an, an welcher Stelle im Code sie aufgetreten sind. In diesem Fall lautete die Fehlermeldung „Zeile 1” und gab Ihnen sogar eine visuelle Darstellung, wo genau in der Zeile der Fehler aufgetreten ist. Nicht immer sind Fehler so leicht zu beheben wie dieser. Sie sollten jedoch immer versuchen, die Fehlermeldung zu lesen und zu verstehen. \n",
    "\n",
    "Wenn Sie nicht herausfinden können, was die Fehlermeldung bedeutet, können Sie Teile davon kopieren und in eine Suchmaschine einfügen, um zu sehen, ob jemand anderes zuvor das gleiche Problem hatte. (Genau so gehen auch die meisten professionellen Programmierer vor!)\n",
    "\n",
    "Sie werden wahrscheinlich auf einer Website wie **StackOverflow** oder **GitHub** landen. Auf StackOverflow können Sie durch verschiedene Antworten scrollen, um eine passende zu finden. Sie können dort auch direkt nach Ihrem Problem suchen. GitHub ist eine Plattform zum Hosten von Code-Projekten. Wenn Sie dort Lösungen finden, handelt es sich möglicherweise um Fehlerberichte oder Diskussionen über kollaborativen Code. Für Anfänger ist dies möglicherweise etwas schwieriger zu verstehen. Es kann jedoch sehr wertvoll sein, die Diskussionen von Profis durchzulesen."
   ]
  },
  {
   "cell_type": "code",
   "execution_count": 8,
   "id": "4513ceee-e6ca-4eeb-8d9e-b07cb2cfee89",
   "metadata": {},
   "outputs": [
    {
     "name": "stdin",
     "output_type": "stream",
     "text": [
      "Gib die 1. Zahl ein 5\n",
      "Gib die 2. Zahl ein 6\n"
     ]
    },
    {
     "name": "stdout",
     "output_type": "stream",
     "text": [
      "11\n"
     ]
    }
   ],
   "source": [
    "# Alles, was eine Benutzerin eingibt, ist vom Typ String\n",
    "# Will man mit Zahlen operieren, muss also die Eingabe in eine Zahl umgewandelt\n",
    "# werden. Dies nennt man Casting oder Typen-Konvertierung.\n",
    "\n",
    "zahl1 = input(\"Gib die 1. Zahl ein\")\n",
    "zahl2 = input(\"Gib die 2. Zahl ein\")\n",
    "# Mit int() wird der String in eine Ganzzahl umgewandelt:\n",
    "print(int(zahl1) + int(zahl2))"
   ]
  },
  {
   "cell_type": "code",
   "execution_count": 13,
   "id": "58b45784-0d2c-4bbc-bb30-ec8e47f2668f",
   "metadata": {},
   "outputs": [
    {
     "name": "stdout",
     "output_type": "stream",
     "text": [
      "h\n",
      "h\n",
      "o\n",
      "5\n"
     ]
    }
   ],
   "source": [
    "# Mit Slicen können wir Strings aufteilen.\n",
    "# Die 1. Position in einem String ist immer die Position 0\n",
    "\n",
    "wort = \"hallo\"\n",
    "ersterBuchstabe = wort[0]\n",
    "print(ersterBuchstabe)\n",
    "# Mit Slicing:\n",
    "print(wort[:-4])\n",
    "# Letzter Buchstabe mit Slicing:\n",
    "print(wort[4:])\n",
    "# Gib die Länge des Wort aus\n",
    "print(len(wort))"
   ]
  },
  {
   "cell_type": "markdown",
   "id": "f12aa3f3-19b0-493e-bdb8-690c1b42fb61",
   "metadata": {},
   "source": [
    "## Aufgabe\n",
    "Der Benutzer/die Benutzerin soll ein Wort eingeben können, und das Programm gibt den letzten Buchstaben des Worts aus."
   ]
  },
  {
   "cell_type": "code",
   "execution_count": 3,
   "id": "340f07ea-7c0e-49ba-b3a9-e996f979b840",
   "metadata": {},
   "outputs": [
    {
     "name": "stdin",
     "output_type": "stream",
     "text": [
      "Von welchem Wort willst du den letzten Buchstaben wissen? hallo\n"
     ]
    },
    {
     "name": "stdout",
     "output_type": "stream",
     "text": [
      "Der letzte Buchstabe ist: o\n"
     ]
    }
   ],
   "source": [
    "wort = input(\"Von welchem Wort willst du den letzten Buchstaben wissen?\")\n",
    "# ToDo: Mit len() und Slicing den letzten Buchstaben herausfinden\n",
    "letzterBuchstabe = wort[len(wort) - 1]\n",
    "print(\"Der letzte Buchstabe ist:\", letzterBuchstabe)"
   ]
  },
  {
   "cell_type": "markdown",
   "id": "11630295-541c-4758-9258-9391c9982c4e",
   "metadata": {},
   "source": []
  }
 ],
 "metadata": {
  "kernelspec": {
   "display_name": "Python 3 (ipykernel)",
   "language": "python",
   "name": "python3"
  },
  "language_info": {
   "codemirror_mode": {
    "name": "ipython",
    "version": 3
   },
   "file_extension": ".py",
   "mimetype": "text/x-python",
   "name": "python",
   "nbconvert_exporter": "python",
   "pygments_lexer": "ipython3",
   "version": "3.9.7"
  }
 },
 "nbformat": 4,
 "nbformat_minor": 5
}
