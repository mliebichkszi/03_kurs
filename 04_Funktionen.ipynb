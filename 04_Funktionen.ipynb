{
 "cells": [
  {
   "attachments": {},
   "cell_type": "markdown",
   "id": "28687565-b075-4fe6-bf57-3678f6fe6f9d",
   "metadata": {
    "slideshow": {
     "slide_type": ""
    },
    "tags": []
   },
   "source": [
    "# Funktionen\n",
    "\n",
    "## 🎯 Lernziel\n",
    "Nach Abschluss dieser Lektion kannst due wiederverwendbaren Code mithilfe von **Funktionen** schreiben. Du weisst, wie du Code weiter in separate Teile unterteilen und mithilfe von Funktionen verständlichen und selbsterklärenden Code schreiben kannst.\n",
    "\n",
    "## ⚙️ Funktionen\n",
    "Du arbeitest seit der ersten Lektion mit Funktionen – beispielsweise ist `print()` eine Funktion. In dieser Lektion werden wir uns ansehen, wie sie funktionieren.\n",
    "\n",
    "Funktionen sind ein weiterer Aspekt des übergeordneten Themas **Kontrollfluss**. Mit ihnen kannst du eine oder mehrere Zeilen Code schreiben, die später oder mehrfach im Programm ausgeführt werden sollen. Sehen wir uns einige Beispiele an.\n",
    "\n",
    "Lies den Code, bevor du ihn ausführst und versuche vorherzusagen, in welcher Reihenfolge die verschiedenen Anweisungen `print()` und `input()` ausgeführt werden und auf dem Bildschirm erscheinen. Führe dann den Code aus."
   ]
  },
  {
   "cell_type": "code",
   "execution_count": 9,
   "id": "4a3faf5b-6e40-4957-bd7b-34c32dee6a99",
   "metadata": {
    "editable": true,
    "slideshow": {
     "slide_type": ""
    },
    "tags": []
   },
   "outputs": [
    {
     "name": "stdout",
     "output_type": "stream",
     "text": [
      "Dein Alter kann nicht 0 sein\n"
     ]
    },
    {
     "name": "stdin",
     "output_type": "stream",
     "text": [
      "Wie alt bist du? 456\n"
     ]
    },
    {
     "name": "stdout",
     "output_type": "stream",
     "text": [
      "Du bist 456 Jahre alt\n"
     ]
    }
   ],
   "source": [
    "alter = \"0\"\n",
    "\n",
    "def frage_nach_alter():\n",
    "    alter = input(\"Wie alt bist du?\")\n",
    "    print(\"Du bist \" + alter, \"Jahre alt\")\n",
    "\n",
    "print(\"Dein Alter kann nicht\", alter, \"sein\")\n",
    "\n",
    "frage_nach_alter()"
   ]
  },
  {
   "cell_type": "markdown",
   "id": "cb568c64-7492-4abc-8a33-f7cb5c165c4d",
   "metadata": {
    "slideshow": {
     "slide_type": ""
    },
    "tags": []
   },
   "source": [
    "Wurde der Code in der von Ihnen erwarteten Reihenfolge ausgeführt? Wenn nicht, was war anders? Kannst du anhand deiner bisherigen Kenntnisse erraten, wie der Code funktioniert? \n",
    "\n",
    "Du siehst ein neues Schlüsselwort: `def`. `def` teilt Python mit, dass du eine **Funktion** **definieren** möchtest. Wie bei Variablen kannst du Funktionen beliebig benennen – solange du keine Namen verwendest, die bereits als **reservierte Wörter** vergeben sind (wie `print` oder `if`). Ausserdem dürfen Funktionen genau wie Variablen keine Leerzeichen oder Sonderzeichen (ausser Unterstrichen „_“) enthalten. Es ist üblich, Funktionsnamen in Kleinbuchstaben zu schreiben und Unterstriche „_“ zu verwenden, um Namen aus mehreren Wörtern zu bilden. Ausserdem ist es immer eine gute Idee, einen Funktionsnamen zu wählen, der genau beschreibt, was die Funktion tut.\n",
    "\n",
    "**❌ Schlechtes Beispiel**: `foo()`\n",
    "\n",
    "**✅ Gutes Beispiel**: `zeige_nachricht()`\n",
    "\n",
    "Die Klammern `()` nach dem Funktionsnamen sind sehr wichtig. Sie erfüllen einen Zweck, auf den wir im folgenden Abschnitt eingehen werden. Vorerst lassen wir sie leer. \n",
    "\n",
    "Wie bei `if`-Anweisungen beginnen Funktionsdefinitionen einen **Codeblock** mit einem Doppelpunkt `:`. Alle nachfolgenden eingerückten Codezeilen werden als **Code innerhalb der Funktion** betrachtet. Die erste Zeile, die nicht eingerückt ist, signalisiert Python, dass der Codeblock beendet ist. \n",
    "\n",
    "Im obigen Beispiel gibt es zwei Zeilen **innerhalb** der Funktion. Die letzte Anweisung `print()` ist nicht mehr eingerückt und daher nicht Teil der Funktion.\n",
    "\n",
    "Es ist sehr wichtig zu verstehen, dass unabhängig davon, wo im Code eine Funktion definiert ist, der Code innerhalb der Funktion **erst ausgeführt wird, wenn die Funktion „aufgerufen” wird** (Du „rufst” eine Funktion auf – was bedeutet, dass du sie ausführst –, indem du ihren Namen zusammen mit Klammern `()` schreibst, wie du in der letzten Zeile des obigen Beispiels sehen kannst). \n",
    "\n",
    "Schau dir die Reihenfolge der Zeilen im obigen Beispiel genau an. Zuerst siehst du „Wie alt bist du?”, aber das ist nicht das Erste, was du siehst, wenn du den Code ausführst. Die erste Zeile, die ausgegeben wird, erscheint tatsächlich in der letzten `print()`-Anweisung des Codes – „Dein Alter kann nicht ...”. Das liegt daran, dass die Funktion `frage_nach_alter()` erst **nach** der Ausgabe dieser Zeile aufgerufen wird. \n",
    "\n",
    "Ok, das war eine Menge Erklärung. Schauen wir uns ein weiteres Beispiel an. Versuche, den Code zu verstehen, bevor du ihn ausführst: "
   ]
  },
  {
   "cell_type": "code",
   "execution_count": null,
   "id": "74883f0c-05c4-4217-a072-0a20c7b07f8d",
   "metadata": {
    "editable": true,
    "slideshow": {
     "slide_type": ""
    },
    "tags": []
   },
   "outputs": [],
   "source": [
    "def meilen_zu_meter():\n",
    "    meter_pro_meile = 1609.34\n",
    "    meter = meilen * meter_pro_meile\n",
    "    print(meters)\n",
    "\n",
    "meilen = 9\n",
    "meilen_zu_meter()\n",
    "\n",
    "meilen_zu_meter()\n",
    "\n",
    "meilen = 1\n",
    "meilen_zu_meter()"
   ]
  },
  {
   "cell_type": "markdown",
   "id": "0c8dd4fb-e970-4c09-ad18-d93d86a808e4",
   "metadata": {
    "slideshow": {
     "slide_type": ""
    },
    "tags": []
   },
   "source": [
    "Hier siehst du einen weiteren Zweck von Funktionen. Mit ihnen kannst du denselben Code an beliebiger Stelle im Programm mehrfach ausführen, ohne denselben Code wiederholt schreiben zu müssen.\n",
    "\n",
    "Versuche, den obigen Code so zu bearbeiten, dass alle drei `print()`-Anweisungen eine andere Zahl zurückgeben."
   ]
  },
  {
   "cell_type": "markdown",
   "id": "9cd35098-dc62-4eb3-a505-5cc33ce7760a",
   "metadata": {
    "slideshow": {
     "slide_type": ""
    },
    "tags": []
   },
   "source": [
    "<details>\n",
    "<summary style=\"border: 1px solid; border-radius: 3px; padding: 5px; display: inline-block; cursor: pointer;\">\n",
    "💡 Hinweis\n",
    "</summary>\n",
    "<p>\n",
    "\n",
    "Die Funktion `meilen_zu_meter()` wird dreimal **aufgerufen**, da drei Zeilen den Namen der Funktion enthalten. Das bedeutet, dass der Code innerhalb des Funktionsblocks dreimal ausgeführt wird. \n",
    "\n",
    "Im Funktionscode siehst du, dass die Variable `meilen` verwendet wird. Du kannst den den Wert der Variable `meilen` ändern, indem du ihr einen anderen Wert zuweist. Der innerhalb der Ausführung der Funktion verwendete Wert ist derjenige, auf den die Variable zuletzt gesetzt wurde.\n",
    "    \n",
    "</p>\n",
    "</details>"
   ]
  },
  {
   "cell_type": "markdown",
   "id": "94038bbe-fbf4-41d9-8720-b93b0b9e6412",
   "metadata": {
    "slideshow": {
     "slide_type": ""
    },
    "tags": []
   },
   "source": [
    "Jetzt bist du an der Reihe, eine Funktion zu schreiben.\n",
    "\n",
    "1. Schreibe eine Funktion, die eine Meldung ausgibt, in der der Benutzer nach seinem Namen gefragt wird, und anschliessend eine Begrüssung mit dem Namen des Benutzers ausgibt.\n",
    "2. Rufe die Funktion zweimal auf.\n",
    "3. Führe den Code aus und gib zwei verschiedene Namen ein, wenn du dazu aufgefordert wirst. "
   ]
  },
  {
   "cell_type": "code",
   "execution_count": null,
   "id": "549c3e61-f407-45e6-b890-e02547c6f0e1",
   "metadata": {
    "editable": true,
    "slideshow": {
     "slide_type": ""
    },
    "tags": []
   },
   "outputs": [],
   "source": [
    "# Schreibe die Begrüssungs-Funktion hier:\n",
    "\n",
    "\n",
    "\n"
   ]
  },
  {
   "cell_type": "markdown",
   "id": "5c247c64-ef7d-47ef-9cae-ef17f2db5618",
   "metadata": {
    "slideshow": {
     "slide_type": ""
    },
    "tags": []
   },
   "source": [
    "<details>\n",
    "<summary style=\"border: 1px solid; border-radius: 3px; padding: 5px; display: inline-block; cursor: pointer;\">\n",
    "💡 Hinweis\n",
    "</summary>\n",
    "<p>\n",
    "\n",
    "1. Schau dir die obigen Beispiele an und achte besonders auf die Einrückungen. Achte darauf, das du die Klammern `()` und den Doppelpunkt `:` nicht vergisst.\n",
    "2. Definiere zunächst die Funktion. Sie sollte eine **Variable** definieren und diese einer `input()`-Funktion zuweisen, die den Benutzer nach seinem Namen fragt.\n",
    "3. Gib in der zweiten Zeile innerhalb der Funktion eine Begrüssung mit `print()` aus. Mit dem Operator `+` kannst du zwei  Zeichenfolgen miteinander verbinden. So kannst du die Standardbegrüssung anpassen, indem du sie mit der Variablen kombinierst, die du mit `input()` definiert hast.\n",
    "4. Um die Funktion aufzurufen, schreibe ihren Namen gefolgt von Klammern `()`. Achte darauf, die Zeile, in der du die Funktion aufrufst, nicht einzurücken.\n",
    "5. Du kannst eine Funktion mehrmals in mehreren Zeilen aufrufen. \n",
    "    \n",
    "</p>\n",
    "</details>"
   ]
  },
  {
   "cell_type": "markdown",
   "id": "f37cbe38-f559-41ca-8513-950ccfaf60d4",
   "metadata": {
    "slideshow": {
     "slide_type": ""
    },
    "tags": []
   },
   "source": [
    "## 🌍 Gültigkeitsbereich\n",
    "\n",
    "Mit dem obigen Code bist du gerade auf ein weiteres wichtiges Konzept der Programmierung gestossen: **Gültigkeitsbereich**.\n",
    "\n",
    "Wenn du Variablen **innerhalb eines Codeblocks** zuweist (oder eine Funktion definierst), ist die Variable (oder Funktion) nur **innerhalb desselben Codeblocks** verfügbar. \n",
    "\n",
    "Probiere den folgenden Code aus."
   ]
  },
  {
   "cell_type": "code",
   "execution_count": 10,
   "id": "5056e20b-6450-4427-b862-6c671889e094",
   "metadata": {
    "editable": true,
    "slideshow": {
     "slide_type": ""
    },
    "tags": []
   },
   "outputs": [
    {
     "ename": "NameError",
     "evalue": "name 'name' is not defined",
     "output_type": "error",
     "traceback": [
      "\u001b[31m---------------------------------------------------------------------------\u001b[39m",
      "\u001b[31mNameError\u001b[39m                                 Traceback (most recent call last)",
      "\u001b[36mCell\u001b[39m\u001b[36m \u001b[39m\u001b[32mIn[10]\u001b[39m\u001b[32m, line 6\u001b[39m\n\u001b[32m      2\u001b[39m     name = \u001b[33m\"\u001b[39m\u001b[33mJon\u001b[39m\u001b[33m\"\u001b[39m\n\u001b[32m      4\u001b[39m name_und_begruessung()\n\u001b[32m----> \u001b[39m\u001b[32m6\u001b[39m \u001b[38;5;28mprint\u001b[39m(\u001b[33m\"\u001b[39m\u001b[33mHallo, \u001b[39m\u001b[33m\"\u001b[39m + \u001b[43mname\u001b[49m)\n",
      "\u001b[31mNameError\u001b[39m: name 'name' is not defined"
     ]
    }
   ],
   "source": [
    "\n",
    "def name_und_begruessung():\n",
    "    name = \"Jon\"\n",
    "\n",
    "name_und_begruessung()\n",
    "\n",
    "print(\"Hallo, \" + name)"
   ]
  },
  {
   "cell_type": "markdown",
   "id": "2a1ced80-883c-4dd0-817b-a07d061fb44d",
   "metadata": {
    "slideshow": {
     "slide_type": ""
    },
    "tags": []
   },
   "source": [
    "Schau dir die Fehlermeldung genau an. Erkennst du, was schiefgelaufen ist? Wir definieren eine Funktion und rufen sie dann auf. Warum wird also ein Fehler ausgegeben?\n",
    "\n",
    "Was du hier erlebt hast, ist das Konzept des Gültigkeitsbereichs. Der Variablenname wurde innerhalb der Funktion definiert. Die print-Anweisung befindet sich jedoch nicht innerhalb dieser Funktion und liegt daher nicht im Gültigkeitsbereich des Codeblocks der Funktion. Das bedeutet, dass die print-Anweisung keinen Zugriff auf Elemente hat, die in der Funktion erscheinen.\n",
    "\n",
    "Behebe unter Berücksichtigung dieser Tatsache den oben genannten Codeblock und sorge dafür, dass die Begrüssung auf dem Bildschirm angezeigt wird."
   ]
  },
  {
   "cell_type": "markdown",
   "id": "019ec319-1ee2-4b5a-a9a8-853e84a2245b",
   "metadata": {
    "slideshow": {
     "slide_type": ""
    },
    "tags": []
   },
   "source": [
    "<details>\n",
    "<summary style=\"border: 1px solid; border-radius: 3px; padding: 5px; display: inline-block; cursor: pointer;\">\n",
    "💡 Hinweis\n",
    "</summary>\n",
    "<p>\n",
    "\n",
    "Du musst die Anweisung `print()` so verschieben, dass sie sich im gleichen **Gültigkeitsbereich** wie die Variablendefinition befindet. (Achten Sie dabei auf die Einrückung!)\n",
    "\n",
    "(Du könntes die Variablendefinition auch ausserhalb der Funktion verschieben, allerdings würde die Funktion dadurch überflüssig werden.)\n",
    "\n",
    "</p>\n",
    "</details>"
   ]
  },
  {
   "cell_type": "markdown",
   "id": "32bc0294-edf9-482f-aea1-e1a19a3d42c2",
   "metadata": {},
   "source": [
    "Auf eine Variable oder Funktion kann innerhalb eines Codeblocks zugegriffen werden, wenn sie im **übergeordneten Bereich** – also dem Bereich direkt um den Codeblock herum – oder im **globalen Bereich** – der von jedem Teil des Codes aus zugänglich ist – definiert wurde.\n",
    "\n",
    ">💡 In Python kann man anhand der Einrückungsebene visuell erkennen, ob eine Variable oder Funktion innerhalb eines bestimmten **Bereichs** definiert ist. Wenn eine Variable oder Funktion überhaupt nicht eingerückt ist und daher nicht innerhalb des Bereichs eines Codeblocks definiert ist, spricht man von einem **„globalen Bereich”**.\n",
    ">\n",
    ">Der Unterschied zwischen **übergeordnetem** und **globalem** Bereich wird erst dann wirklich wichtig, wenn Sie beginnen, komplexere Programme zu schreiben. In diesem Beispiel ist der **übergeordnete Bereich** auch der **globale Bereich**.\n",
    "\n",
    "Schau dir das folgende Beispiel an und versuche herauszufinden, was ausgegeben wird, bevor du es ausführst:"
   ]
  },
  {
   "cell_type": "code",
   "execution_count": 15,
   "id": "3244dc2f-6619-43fb-b378-5e79836860dc",
   "metadata": {},
   "outputs": [
    {
     "name": "stdout",
     "output_type": "stream",
     "text": [
      "42\n",
      "Mia\n"
     ]
    }
   ],
   "source": [
    "alter = 42\n",
    "\n",
    "def zeige_alter_und_name():\n",
    "    name = \"Mia\"\n",
    "\n",
    "    print(alter)\n",
    "    print(name)\n",
    "\n",
    "zeige_alter_und_name()\n",
    "\n",
    "# print(age)\n",
    "# print(name)"
   ]
  },
  {
   "cell_type": "markdown",
   "id": "67c302a3-6a53-41cb-a4a0-211d4dd16cc7",
   "metadata": {
    "slideshow": {
     "slide_type": ""
    },
    "tags": []
   },
   "source": [
    "Versuche die beiden letzten print()-Anweisungen zu kommentieren (um eine Zeile zu „kommentieren“, entferne das Symbol #). Welche davon löst einen Fehler aus? Erkennst du, warum?\n",
    "\n",
    "Die Variable \"alter\" ist im globalen oder übergeordneten Bereich ausserhalb der Funktion definiert. Das bedeutet, dass die Variable verfügbar ist, wenn sie mit `print()` ausserhalb der Funktion `zeige_alter_und_name()` verwendet wird. Die Variable \"name\" befindet sich jedoch innerhalb des Funktionsbereichs und ist daher ausserhalb davon nicht verfügbar.\n",
    "\n",
    "Was aber, wenn du etwas, das innerhalb einer Funktion generiert wurde, ausserhalb davon verwenden musst?\n",
    "\n",
    "Dazu müssen wir etwas über Rückgabewerte lernen."
   ]
  },
  {
   "cell_type": "markdown",
   "id": "1ffe0ed6",
   "metadata": {
    "slideshow": {
     "slide_type": ""
    },
    "tags": []
   },
   "source": [
    "## 🎁 Rückgabewerte\n",
    "\n",
    "Um eine Funktion ein Ergebnis erzeugen zu lassen, das an anderer Stelle in Ihrem Programm verwendet werden kann, verwende eine **return**-Anweisung.\n",
    "\n",
    "Schauen wir uns einmal an, wie das funktioniert. Schau dir den folgenden Code an und versuche, die Ausgabe zu erraten, bevor du ihn ausführst:"
   ]
  },
  {
   "cell_type": "code",
   "execution_count": 16,
   "id": "703d1501-c332-46a7-8529-3e9648e7fb70",
   "metadata": {
    "editable": true,
    "slideshow": {
     "slide_type": ""
    },
    "tags": []
   },
   "outputs": [
    {
     "name": "stdout",
     "output_type": "stream",
     "text": [
      "None\n"
     ]
    }
   ],
   "source": [
    "def zwei_zahlen_addieren():\n",
    "    4 + 2\n",
    "\n",
    "resultat = zwei_zahlen_addieren()\n",
    "\n",
    "print(resultat)"
   ]
  },
  {
   "cell_type": "markdown",
   "id": "956882a8-8b58-456d-ba2c-0eb03c94e22b",
   "metadata": {
    "slideshow": {
     "slide_type": ""
    },
    "tags": []
   },
   "source": [
    "Eine einfache Funktion, die die Zahlen $\\mathbf{4}$ und $\\mathbf{2}$ addiert, wird definiert. Wir weisen die Funktion dann einer Variable namens **`result`** zu. Aber wenn du **`result`** **`print()`**est, gibt es **`None`** zurück. Das liegt daran, dass wir der Funktion nicht gesagt haben, dass sie etwas **`return`**en soll, was bedeutet, dass das, was **innerhalb** der Funktion geschieht, nicht im **globalen Geltungsbereich** (**global scope**) zugänglich ist, wo die `print()`-Anweisung erscheint.\n",
    "\n",
    "Versuche stattdessen, diesen Code auszuführen:"
   ]
  },
  {
   "cell_type": "code",
   "execution_count": 18,
   "id": "5e3a172b-3996-4e80-bc33-7a3317bb16f2",
   "metadata": {
    "editable": true,
    "slideshow": {
     "slide_type": ""
    },
    "tags": []
   },
   "outputs": [
    {
     "name": "stdout",
     "output_type": "stream",
     "text": [
      "6\n"
     ]
    }
   ],
   "source": [
    "def zwei_zahlen_addieren():\n",
    "    return 4 + 2\n",
    "\n",
    "resultat = zwei_zahlen_addieren()\n",
    "\n",
    "print(resultat)"
   ]
  },
  {
   "cell_type": "markdown",
   "id": "5c96adab-a221-4525-97b8-51484e421bf0",
   "metadata": {
    "slideshow": {
     "slide_type": ""
    },
    "tags": []
   },
   "source": [
    "Siehst du, wie jetzt die Zahl **`6`** angezeigt wird? Das liegt daran, dass wir das **`return`**-Schlüsselwort zur Funktion hinzugefügt haben. Das bedeutet, dass die Ausgabe der Funktion **außerhalb** des Gültigkeitsbereichs (**scope**) der Funktion verfügbar gemacht wird.\n",
    "\n",
    "Es ist entscheidend zu wissen, dass das **`return`**-Schlüsselwort innerhalb einer Funktion die **Ausführung der Funktion sofort beendet**. Daher sollte es die letzte Zeile des Code-Blocks einer Funktion sein, da jeder Code, der darunter steht, **ignoriert** wird.\n",
    "\n",
    "Probiere Folgendes aus:"
   ]
  },
  {
   "cell_type": "code",
   "execution_count": 19,
   "id": "8e68136a-14d8-4029-a34e-a8360bf5eb17",
   "metadata": {
    "editable": true,
    "slideshow": {
     "slide_type": ""
    },
    "tags": []
   },
   "outputs": [
    {
     "name": "stdout",
     "output_type": "stream",
     "text": [
      "6\n"
     ]
    }
   ],
   "source": [
    "def zwei_zahlen_addieren():\n",
    "    return 4 + 2\n",
    "    print(\"Das Resultat ist:\")\n",
    "\n",
    "resultat = zwei_zahlen_addieren()\n",
    "\n",
    "print(resultat)"
   ]
  },
  {
   "cell_type": "markdown",
   "id": "33541d14-0704-4102-97b3-4f4a951f7000",
   "metadata": {
    "slideshow": {
     "slide_type": ""
    },
    "tags": []
   },
   "source": [
    "Bearbeite den obigen Code so, dass der Text **`\"Das Resultat ist:\"`** angezeigt wird. Er sollte **vor** dem eigentlichen Ergebnis erscheinen."
   ]
  },
  {
   "cell_type": "markdown",
   "id": "c84eca98-1374-496e-b864-077d4bd7f238",
   "metadata": {
    "slideshow": {
     "slide_type": ""
    },
    "tags": []
   },
   "source": [
    "<details> <summary style=\"border: 1px solid; border-radius: 3px; padding: 5px; display: inline-block; cursor: pointer;\"> 💡 Tipp </summary> <p>\n",
    "\n",
    "Du musst die Anweisung print(\"Das Resultat ist:\") über die Zeile mit der return-Anweisung verschieben. Achte aber darauf, dass beide dieselbe Einrückungsebene behalten.     \n",
    "\n",
    "</p> </details>"
   ]
  },
  {
   "cell_type": "markdown",
   "id": "bb6f5b1f",
   "metadata": {
    "slideshow": {
     "slide_type": ""
    },
    "tags": []
   },
   "source": [
    "## ✉️ Funktions-Argumente\n",
    "\n",
    "Funktionen haben ein weiteres wichtiges Merkmal, das sie noch nützlicher macht: Argumente (auch bekannt als Parameter).\n",
    "\n",
    "Du hast zuvor gelernt, dass Funktionen immer runde Klammern haben. Diese haben tatsächlich einen Zweck. Du kannst Argumente innerhalb dieser Klammern definieren. Diese Argumente sind im Grunde Variablen, die nur innerhalb des Gültigkeitsbereichs (scope) des Funktions-Code-Blocks verfügbar sind.\n",
    "\n",
    "Warum ist das nützlich?\n",
    "\n",
    "Erinnere dich an die erste Übung in dieser Lektion, als wir eine Variable age definiert und sie dann innerhalb einer Funktion geändert haben? Was wir dort gemacht haben, war eigentlich kein \"Best Practice\" oder das, was Programmierer \"sauberer Code\" nennen.\n",
    "\n",
    "Globale vs. lokale Variablen\n",
    "Variablen, die außerhalb des Gültigkeitsbereichs eines Code-Blocks definiert werden, gelten als globale Variablen, weil sie \"global\" im gesamten Code und innerhalb aller Code-Blöcke verfügbar sind.\n",
    "\n",
    "Das mag auf den ersten Blick recht praktisch erscheinen. Aber je komplexer der Code wird, desto schwieriger wird es, diese Variablen und all die Stellen im Code, an denen sie möglicherweise geändert werden, im Auge zu behalten. Außerdem, wie du bei der Funktion miles_to_meters() gesehen hast, führt das Ändern einer globalen Variablen dazu, dass diese überschrieben wird und der vorherige Wert verloren geht – was als schlechte Praxis gilt.\n",
    "\n",
    "Die Lösung: Argumente verwenden\n",
    "Es gilt als Best Practice, die Verwendung globaler Variablen auf ein Minimum zu beschränken und stattdessen Argumente zu verwenden. (Wenn du gerade erst mit dem Programmieren beginnst, mag es schwer zu verstehen sein, warum. Aber keine Sorge, das wird im Laufe deiner Programmier-Reise klarer werden!) Schauen wir uns also an, wie sie funktionieren.\n",
    "\n",
    "Führe den Code-Block unten aus:"
   ]
  },
  {
   "cell_type": "code",
   "execution_count": 21,
   "id": "220d74bc",
   "metadata": {},
   "outputs": [
    {
     "name": "stdout",
     "output_type": "stream",
     "text": [
      "Hallo, Basil!\n"
     ]
    }
   ],
   "source": [
    "def gruss_name(benutzername):\n",
    "  print(\"Hallo, \" + benutzername + \"!\")\n",
    "\n",
    "gruss_name(\"Basil\")"
   ]
  },
  {
   "cell_type": "markdown",
   "id": "83e3e045",
   "metadata": {
    "slideshow": {
     "slide_type": ""
    },
    "tags": []
   },
   "source": [
    "Hier gibt es zwei wichtige neue Dinge zu sehen:\n",
    "\n",
    "Beim Definieren der Funktion gruss_name definieren wir in den Klammern auch ein Argument namens benutzername.\n",
    "\n",
    "Beim Aufrufen der Funktion mit gruss_name(\"Basil\") legen wir fest, dass der Wert für das Argument benutzername der String \"Basil\" ist.\n",
    "\n",
    "Die Benennung eines Arguments folgt denselben Regeln wie die Benennung von Variablen oder Funktionen. Es kann also alles sein, was dir gefällt und kein reserviertes Wort ist. Du siehst in der print()-Anweisung, dass du das Argument genauso verwenden kannst, wie du jede andere Variable verwenden würdest.\n",
    "\n",
    "Das wirklich Nützliche an Funktionen ist, dass du jedes Mal, wenn du eine Funktion aufrufst, das Argument als etwas anderes definieren kannst.\n",
    "\n",
    "Im obigen Code ist eine Zeile auskommentiert. Entferne das # (Hash-Symbol) und führe den Code erneut aus. Verstehst du, was dort passiert? Versuche, ein paar weitere Funktionsaufrufe hinzuzufügen, jeder mit einem anderen Namen.\n",
    "\n",
    "Wir werden das gleich noch etwas üben. Aber zuerst solltest du noch eine Sache über Argumente wissen: Funktionen können mehrere Argumente haben. Du definierst mehrere Argumente, indem du sie einfach mit Kommas trennst. Sieh dir den folgenden Code an. Es ist die Additionsfunktion von vorhin – aber dieses Mal mit Argumenten:"
   ]
  },
  {
   "cell_type": "code",
   "execution_count": 22,
   "id": "fb014730",
   "metadata": {},
   "outputs": [
    {
     "name": "stdout",
     "output_type": "stream",
     "text": [
      "Das Resultat ist:\n",
      "6\n"
     ]
    }
   ],
   "source": [
    "def addiere(zahl1, zahl2):\n",
    "    print(\"Das Resultat ist:\")\n",
    "    return zahl1 + zahl2\n",
    "    \n",
    "\n",
    "resultat1 = addiere(4, 2)\n",
    "print(resultat1)\n",
    "\n",
    "# 👇 Dein Code:\n",
    "\n"
   ]
  },
  {
   "cell_type": "markdown",
   "id": "8f544aa3",
   "metadata": {
    "slideshow": {
     "slide_type": ""
    },
    "tags": []
   },
   "source": [
    "Versuche zuerst, zwei andere Zahlen zu addieren, das Ergebnis in einer neuen Variablen (result2) zu speichern und diese dann auszugeben.\n",
    "\n",
    "Jetzt formen wir den Temperaturrechner in eine wiederverwendbare Funktion um. Wir kombinieren dafür Argumente, return und Bedingungen.\n",
    "\n",
    "Hier ist dein alter Code zum Vergleich:\n",
    "\n",
    "```python\n",
    "fahrenheit = input(\"Fahrenheit:\")\n",
    "\n",
    "if fahrenheit.isnumeric():\n",
    "    celsius = (int(fahrenheit) - 32) * 5/9\n",
    "    print(celsius)\n",
    "else:\n",
    "    print(\"Gib eine Zahl ein\")\n",
    "```\n",
    "\n",
    "Im Moment kann dieser Code nur einmal ausgeführt werden. Wenn du mehrere verschiedene Werte berechnen willst, müsstest du den gleichen Code immer wieder neu schreiben. Um das zu vermeiden, kannst du einen Teil des Codes in eine Funktion verschieben.\n",
    "\n",
    "Dafür musst du kombinieren, was du über Argumente, return und Bedingungen gelernt hast, um diese Aufgabe zu lösen.\n",
    "\n",
    "💡 Es ist verlockend zu denken, dass es ausreicht, ein Konzept nur zu verstehen und dann weiterzumachen. Aber genau wie beim Erlernen eines Musikinstruments geht es beim Programmierenlernen zum großen Teil auch ums Üben. Du verinnerlichst das Gelernte nur, indem du es wiederholt anwendest. Deshalb ermutige ich dich, den Code in der folgenden Übung manuell neu zu schreiben, auch die Teile, von denen du denkst, dass du sie vielleicht schon kennst.\n",
    "\n",
    "Es gibt bereits ein paar automatisierte Tests im Code-Feld unten. Anstatt sie alle auf einmal zu korrigieren, befolge die Anweisungen nacheinander. Nach jedem abgeschlossenen Punkt sollte ein weiterer Test erfolgreich durchlaufen werden. Mach dir also keine Sorgen, wenn der Rest zunächst fehlschlägt. Dein Ziel ist es, sie einzeln zum Erfolg zu führen.\n",
    "\n",
    "Erstelle eine neue Funktion namens fahrenheit_zu_celcius mit einem Argument namens fahrenheit. Du kannst die Funktion vorerst leer lassen und sie nur fahrenheit **return**en lassen (das ändern wir im nächsten Schritt). Führe die Code-Zelle aus, um den ersten Test zu bestehen.\n",
    "\n",
    "Als Nächstes fügst du dem Funktions-Scope eine Bedingung hinzu, die prüft, ob fahrenheit numerisch ist. Wenn es nicht numerisch ist, soll die Funktion den exakten String \"Please enter a number.\" **return**en. Wenn es numerisch ist, **return**st du vorerst nur die Variable fahrenheit. Führe die Code-Zelle erneut aus, um den zweiten Test zu bestehen.\n",
    "\n",
    "Nun bringen wir die Funktion dazu, tatsächlich das zu tun, wofür sie gedacht ist! Füge die Formel – inklusive der Umwandlung in eine Ganzzahl – (int(fahrenheit) - 32) * 5/9 zur Funktion hinzu, sodass der umgewandelte Wert zurückgegeben wird, wenn die "
   ]
  },
  {
   "cell_type": "code",
   "execution_count": 24,
   "id": "3039c345-6bdd-43b4-b02c-be65585b785e",
   "metadata": {
    "editable": true,
    "slideshow": {
     "slide_type": ""
    },
    "tags": []
   },
   "outputs": [
    {
     "name": "stdout",
     "output_type": "stream",
     "text": [
      "\n",
      "---\n",
      "⚙️ Automatisierte Resultate: \n",
      "---\n",
      "❌ Test 1 fehlgeschlagen. Es gibt offenbar keine Funktion 'fahrenheit_zu_celsius' definiert.\n"
     ]
    }
   ],
   "source": [
    "# Schreibe deinen Code hier:\n",
    "\n",
    "\n",
    "\n",
    "\n",
    "\n",
    "\n",
    "\n",
    "\n",
    "\n",
    "\n",
    "# ===============================\n",
    "# ✋ Automatisierter Test - ändere ab hier nichts!\n",
    "# ===============================\n",
    "print(\"\\n---\\n⚙️ Automatisierte Resultate: \\n---\")\n",
    "# Test 1\n",
    "try: \n",
    "  # Test 1\n",
    "  import inspect\n",
    "  test_1 = len(inspect.getfullargspec(fahrenheit_to_celcius).args) > 0 and inspect.getfullargspec(fahrenheit_to_celcius).args[0] == 'fahrenheit'\n",
    "  print(\"❌ Test 1 fehlgeschlagen. Argument 'fahrenheit' fehlt.\" if not test_1 else \"☑️ Test 1 erfolgreich.\")\n",
    "\n",
    "  # Test 2\n",
    "  test_2 = fahrenheit_to_celcius(\"text\")\n",
    "  expected_result_2 = \"Gib eine Zahl ein.\"\n",
    "  print(\"❌ Test 2 fehlgeschlagen. Der Return-String ist nicht 'Gib eine Zahl ein.' Prüfe, ob du dich verschrieben hast.\" if test_2 != expected_result_2 else \"☑️ Test 2 erfolgreich.\")\n",
    "\n",
    "  # Test 3\n",
    "  test_3 = fahrenheit_to_celcius(\"32\")\n",
    "  expected_result_3 = 0.0\n",
    "  print(\"❌ Test 3 fehlgeschlagen. Verwende die korrekte Formel.\" if test_3 != expected_result_3 else \"☑️ Test 3 erfolgreich.\")\n",
    "  \n",
    "except NameError: print(\"❌ Test 1 fehlgeschlagen. Es gibt offenbar keine Funktion 'fahrenheit_zu_celsius' definiert.\")"
   ]
  },
  {
   "cell_type": "markdown",
   "id": "c6b9c46a",
   "metadata": {
    "slideshow": {
     "slide_type": ""
    },
    "tags": []
   },
   "source": [
    "<details> <summary style=\"border: 1px solid; border-radius: 3px; padding: 5px; display: inline-block; cursor: pointer;\"> 💡 Tipp </summary> <p>\n",
    "\n",
    "Du brauchst nichts zu `print()`en. Denk daran, dass du das return-Schlüsselwort verwenden kannst, um einen Wert außerhalb des Gültigkeitsbereichs der Funktion zugänglich zu machen.\n",
    "\n",
    "Vergiss nicht, die runden Klammern zu verwenden, um Funktionen aufzurufen!\n",
    "\n",
    "Wenn Fehler auftreten, versuche zu lesen und zu verstehen, was schiefgelaufen ist. Achte auf Einrückungen (Indentation) und kleine Tippfehler. Folge den Anweisungen außerdem von oben nach unten und sorge dafür, dass jeder der drei Tests einzeln bestanden wird.     \n",
    "\n",
    "</p> </details>"
   ]
  },
  {
   "cell_type": "markdown",
   "id": "e2f1888c",
   "metadata": {
    "slideshow": {
     "slide_type": ""
    },
    "tags": []
   },
   "source": [
    "Gut gemacht, das war viel auf einmal! Aber jetzt kennst du einige der wichtigsten Programmierkonzepte. Indem du Variablen, Bedingungen und Funktionen mit return-Werten und Argumenten kombinierst, bist du bereits in der Lage, kleine Computerprogramme zu schreiben. \n",
    "\n",
    "🕹️ **Dein erstes Schätz-Quizspiel**\n",
    "\n",
    "Lass es uns ausprobieren und ein kleines Schätz-Quizspiel erstellen! Du spielst gegen einen (eher dummen) Computer, um eine Zahl zu erraten. Wer die Zahl am nächsten an der richtigen Antwort schätzt, gewinnt.\n",
    "\n",
    "Hier ist eine beispielhafte Reihenfolge der Ereignisse im Spiel. Lies sie dir sorgfältig durch und versuche dann, sie unten in Code umzusetzen:\n",
    "\n",
    "1. Du siehst eine Willkommensnachricht und die Frage: \"Wie hoch ist der Mount Everest in Metern?\"\n",
    "2. Du kannst eine Zahl in ein input()-Feld eingeben. (Diese Zahl sollte für später in einer Variablen gespeichert werden.)\n",
    "3. Der Computer generiert zufällig eine Zahl innerhalb eines bestimmten Bereichs (z. B. zwischen 1000 und 10000).\n",
    "4. Die korrekte Antwort (8849) sollte irgendwo im Code in einer Variablen gespeichert werden.\n",
    "5. Nun muss die Differenz zwischen der korrekten Antwort und deiner Schätzung berechnet werden (z. B. durch Subtraktion deiner Zahl von der korrekten Antwort). Denk daran, dass du deine Eingabe möglicherweise in eine ganze Zahl (Integer) umwandeln musst.\n",
    "6. Mach dasselbe für die Schätzung des Computers (obwohl diese nicht in eine ganze Zahl umgewandelt werden muss!).\n",
    "7. Vergleiche die beiden Ergebnisse und bestimme, ob deine Schätzung oder die Schätzung des Computers näher an der korrekten Antwort liegt.\n",
    "8. Du siehst eine Nachricht auf dem Bildschirm, die entweder dich oder den Computer zum Gewinner erklärt.\n",
    "9. Wiederhole diesen Vorgang für zwei weitere Fragen deiner Wahl. Du könntest die Leute zum Beispiel die Entfernung von der Erde zum Mond oder die Wassermenge auf der Erde schätzen lassen.\n",
    "\n",
    "🏗️ **Refactoring und Funktionen**\n",
    "\n",
    "Versuche für den letzten Teil der Aufgabe, Funktionen zu verwenden, um so viel wie möglich des bereits geschriebenen Codes wiederzuverwenden. Falls du nicht sicher bist, wie das geht, kann ein hilfreicher Ansatz (der auch von Profis genutzt wird) darin bestehen, zuerst eine einfache, \"unschöne\" Implementierung des Codes zu schreiben. Das heißt: Verwende keine Funktionen und schreibe den Code für die zweite Frage einfach unter den Code für die erste Frage. Auf diese Weise siehst du leicht, welche Teile deines Codes sich wiederholen.\n",
    "\n",
    "Im nächsten Schritt kannst du dann darüber nachdenken, wie du diese wiederholten Teile des Codes in Funktionen mit Argumenten zusammenfassen kannst. Dieser Teil des Programmierprozesses wird Refactoring genannt – du wandelst deinen zuvor unordentlichen Code in etwas um, das sauberer und pflegeleichter ist (z. B. durch die Verwendung von Funktionen).\n",
    "\n",
    "Versuche eine Weile darüber nachzudenken, aber falls du zu lange stecken bleibst, schau dir den Hinweis an.\n",
    "\n",
    "💡 Hinweis zu Zufallszahlen: Python verfügt über eine eingebaute Funktion, um zufällig Zahlen innerhalb eines Bereichs zu generieren. Die Code-Zelle unten enthält bereits etwas Code, der dir im Moment wahrscheinlich unbekannt vorkommt (d. h. import random und .randint, obwohl du vielleicht erraten kannst, dass .randint etwas mit einer zufälligen ganzen Zahl zu tun hat!). Du wirst später mehr über diese Art von Code erfahren. Fürs Erste wisse einfach, dass du die Funktion random_number_within_range() überall in deinem Code unten verwenden kannst. Du definierst das erste und zweite Argument als die niedrigste und höchste Zahl des Bereichs, innerhalb dessen die Zahl generiert werden soll. Zum Beispiel so: random_number_within_range(0, 10000)\n",
    "\n",
    "Diese Übung kann etwas länger dauern. Zögere nicht, Chats zu nutzen oder frühere Lektionen zur Hilfe durchzugehen. Lass dich nicht entmutigen, wenn es etwas länger dauert – das ist völlig normal!"
   ]
  },
  {
   "cell_type": "code",
   "execution_count": 26,
   "id": "85d80c19",
   "metadata": {},
   "outputs": [],
   "source": [
    "# Dieser Code erzeugt eine Zufallszahl\n",
    "import random\n",
    "\n",
    "def random_zahl_im_bereich(tiefste_zahl, höchste_zahl):\n",
    "  return random.randint(tiefste_zahl, höchste_zahl)\n",
    "\n",
    "# 👇 Schreibe deinen Code hier:\n",
    "\n",
    "\n",
    "\n",
    "\n",
    "\n",
    "\n"
   ]
  },
  {
   "cell_type": "markdown",
   "id": "2c69e7b2",
   "metadata": {
    "slideshow": {
     "slide_type": ""
    },
    "tags": []
   },
   "source": [
    "<details> <summary style=\"border: 1px solid; border-radius: 3px; padding: 5px; display: inline-block; cursor: pointer;\"> 💡 Tipp </summary> <p>\n",
    "\n",
    "1. Du musst nichts **print()**en. Denk daran, dass du das return-Schlüsselwort verwenden kannst, um einen Wert ausserhalb des Gültigkeitsbereichs der Funktion zugänglich zu machen.\n",
    "2. Vergiss nicht, die runden Klammern zu verwenden, um Funktionen aufzurufen!\n",
    "3. Wenn Fehler auftreten, versuche zu lesen und zu verstehen, was schiefgelaufen ist. Achte auf Einrückungen und kleine Tippfehler. Folge den Anweisungen ausserdem von oben nach unten und sorge dafür, dass jeder der drei Tests einzeln bestanden wird.\n",
    "\n",
    "```python\n",
    "import random \n",
    "\n",
    "# Spiel 1\n",
    "game_1_player_choice = int(input(\"Gib eine Zahl zwischen 1 und 6 ein\"))\n",
    "game_1_computer_choice = random.randint(1, 6)\n",
    "print(\"Der Computer wählte\", game_1_computer_choice, \"und der Spieler wählte\", game_1_player_choice)\n",
    "\n",
    "# Spiel 2\n",
    "game_2_player_choice = int(input(\"Gib eine Zahl zwischen 1 und 100 ein\"))\n",
    "game_2_computer_choice = random.randint(1, 100)\n",
    "print(\"Der Computer wählte\", game_2_computer_choice, \"und der Spieler wählte\", game_2_player_choice)\n",
    "```\n",
    "\n",
    "<br>\n",
    "In dem obigen Beispiel sieht ein Großteil des Codes sehr ähnlich aus, aber es gibt kleine Unterschiede. Zum Beispiel steht der String der input()-Funktion im einen Beispiel \"1 und 6\" und im anderen \"1 und 100\". Ähnlich verwendet die random.randint()-Funktion beim ersten Mal die Werte 1 und 6 und beim zweiten Mal 1 und 100. Der Code ist also grösstenteils gleich. Der einzige Unterschied ist der Bereich, der durch zwei Zahlen definiert wird. Das verrät uns, dass wir mit einigen Änderungen des Codes den gesamten Code in eine Funktion mit zwei Argumenten für die beiden Zahlen verschieben können.\n",
    "\n",
    "Sieh dir den Code unten genau an:\n",
    "\n",
    "```python\n",
    "import random \n",
    "\n",
    "def run_game(start_range, end_range):\n",
    "  game_1_player_choice = int(input(„Geben Sie eine Zahl zwischen “ + str(start_range) + „ und “ + str(end_range))\n",
    "  game_1_computer_choice = random.randint(start_range, end_range)\n",
    "  print(„Der Computer hat gewählt“, game_1_computer_choice, „und der Spieler hat gewählt“, game_1_player_choice)\n",
    "\n",
    "run_game(1, 6)\n",
    "run_game(1, 100)\n",
    "```\n",
    "\n",
    "<br>\n",
    "Wir haben die beiden Zahlen durch die Argument-Namen start_range und end_range ersetzt. Da diese Werte ganze Zahlen (Integers) sind, müssen wir sie in Strings umwandeln, wenn wir sie mit anderen Strings kombinieren wollen. Dafür verwenden wir die str()-Funktion.\n",
    "\n",
    "Schließlich rufen wir die Funktion zweimal auf und können sie nun viel öfter aufrufen, ohne einen Großteil des Codes zu wiederholen.\n",
    "\n",
    "Mit dem Wissen aus diesem Beispiel versuchst du nun, den Code deines Fragen-Quizspiels zu refaktorieren.\n",
    "\n",
    "💡 Da du jedes Mal mit der Implementierung anderer Fragen arbeiten wirst, wird deine Funktion wahrscheinlich vier Argumente haben, etwa so: def guessing_game(frage, korrekte_antwort, start_bereich, ende_bereich). Wenn du die Funktion dann mit dem Mount-Everest-Beispiel aufrufen würdest, würdest du guessing_game(\"Wie hoch ist der Mount Everest in Metern?\", 8849, 0, 10000) aufrufen.     \n",
    "\n",
    "</p> </details>"
   ]
  },
  {
   "attachments": {},
   "cell_type": "markdown",
   "id": "b4705963-b7e8-49d8-964a-14db43867c3d",
   "metadata": {
    "slideshow": {
     "slide_type": ""
    },
    "tags": []
   },
   "source": [
    "## 🏡 Übung\n",
    "Du weisst nun, wie man **wiederverwendbaren Code** mithilfe von **Funktionen**, **Argumenten** und **`return`**-Anweisungen schreibt. Du hast auch etwas über den **Gültigkeitsbereich (Scope)** und **lokale** vs. **globale** Variablen gelernt. Es kann sehr kompliziert sein, all diese Konzepte auf einmal zu verstehen. Aber die gute Nachricht ist, dass dies **Kerngrundlagen** sind, die du beim Programmieren ständig verwenden wirst. Du wirst sie also noch oft üben. Und du kannst gleich jetzt mit der folgenden Übung weitermachen!\n",
    "\n",
    "**Schere-Stein-Papier Spiel**\n",
    "\n",
    "Nun, das ist wieder eine schwierige Aufgabe. Sie erfordert viel Überlegung und die Verwendung einer Kombination aus Funktionen und mehreren Bedingungen. Aber du kennst alle Werkzeuge, die du zum Erstellen dieses Spiels benötigst.\n",
    "\n",
    "1. Erstelle eine neue Python-Datei auf deinem Computer.\n",
    "3. Kopieren den Code zum Zufallsgenerieren einer Zahl in Python und füge ihn oben in die Datei ein. Du benötigst ihn für die Wahl  des Computers: \n",
    "\n",
    "```python\n",
    "# Dieser Code erzeugt eine Zufallszahl\n",
    "import random\n",
    "\n",
    "def random_zahl_im_bereich(tiefste_zahl, höchste_zahl):\n",
    "  return random.randint(tiefste_zahl, höchste_zahl)\n",
    "```\n",
    "\n",
    "\n",
    "3. Starte das Spiel, indem du den Benutzer nach seiner Wahl zwischen „Stein“, „Papier“ oder „Schere“ frägst.\n",
    "4. Lasse den Computer zufällig zwischen diesen drei Optionen wählen. Am einfachsten ist es, eine Zufallszahl zwischen 1 und 3 zu generieren und jede Zahl für eine der drei Optionen stehen zu lassen. \n",
    "5. Nun kommt der komplizierte Teil. Du musst mehrere Bedingungen verwenden, um die Wahl des Computers und die Wahl des Benutzers zu vergleichen und zu bestimmen, wer gewonnen hat. Es gibt viele verschiedene Möglichkeiten, diese Aufgabe zu lösen! Versteife dich also nicht darauf, die \"richtige\" Antwort zu finden: Du brauchst nur eine Antwort, die funktioniert. \n",
    "6. Gib auf dem Bildschirm aus, ob der Spieler oder der Computer gewonnen hat. _(Tipp: Gib auch die Wahl des Computers und des Spielers erneut aus. So kannst du überprüfen, ob der Code wie vorgesehen funktioniert.)_\n",
    "7. Lass den Spieler das Spiel dreimal wiederholen, basierend auf dem, was du oben über **Funktionen** und **Refactoring** gelernt hast. Wenn du dies noch nicht getan hast, kannst du den letzten Hinweis ansehen, um den Einstieg zu erleichtern. *(In zukünftigen Lektionen lernst du, wie du den Spieler ein Spiel unbegrenzt wiederholen lassen kannst. Verwende vorerst einfach Funktionen, um das Spiel dreimal zu wiederholen.)*"
   ]
  }
 ],
 "metadata": {
  "kernelspec": {
   "display_name": "Python 3 (ipykernel)",
   "language": "python",
   "name": "python3"
  },
  "language_info": {
   "codemirror_mode": {
    "name": "ipython",
    "version": 3
   },
   "file_extension": ".py",
   "mimetype": "text/x-python",
   "name": "python",
   "nbconvert_exporter": "python",
   "pygments_lexer": "ipython3",
   "version": "3.12.6"
  }
 },
 "nbformat": 4,
 "nbformat_minor": 5
}
