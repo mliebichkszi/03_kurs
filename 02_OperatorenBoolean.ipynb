{
 "cells": [
  {
   "cell_type": "markdown",
   "id": "02dc4f0c-c73e-4d9e-b5c7-c930a6a14ae5",
   "metadata": {},
   "source": [
    "# Operatoren und Boolean\n",
    "## Boolean\n",
    "Ein Boolean ist ein Datentyp, der nur zwei Werte haben kann:\n",
    "* `True`\n",
    "* `False`"
   ]
  },
  {
   "cell_type": "code",
   "execution_count": null,
   "id": "0d30bb6e-a590-47b0-a8ce-26254823942a",
   "metadata": {},
   "outputs": [],
   "source": [
    "wetter = True\n",
    "aktivitaet = True\n",
    "5 > 3\n",
    "5 < 3\n",
    "# Ist 2 dasselbe wie 4\n",
    "2 == 4"
   ]
  },
  {
   "cell_type": "markdown",
   "id": "a1e3b995-3215-45dd-98b8-f7e404445c6c",
   "metadata": {},
   "source": [
    "## Operatoren\n",
    "Operatoren sind Symbole oder Schlüsselwörter, mit denen man Berechnungen oder logische Prüfungen durchführen kann. Es gibt verschiedene Operatoren in Python:\n",
    "* arithmetische (+, -, *, /)\n",
    "* Vergleichsoperatoren (==, !=, <, >, <=, >=)\n",
    "* logische Operatoren (and, or, not)\n",
    "* Membership-Operatoren (in)"
   ]
  },
  {
   "cell_type": "code",
   "execution_count": null,
   "id": "06c61e3e-e938-4a40-b37b-962c21f31cc9",
   "metadata": {},
   "outputs": [],
   "source": [
    "print(1 + 2)\n",
    "print(True and False)\n",
    "# ist es dasselbe?\n",
    "print(\"Apfel\" == \"Banane\")\n",
    "# ist es ungleich?\n",
    "print(\"Apfel\" != \"Banane\")\n",
    "# not kehrt Wahrheitswert um\n",
    "print(not(5 > 2))\n",
    "# ist etwas enthalten?\n",
    "\"S\" in \"Schule\""
   ]
  },
  {
   "cell_type": "code",
   "execution_count": 19,
   "id": "2d2e0ad1-5f76-4cbc-a420-f06840639970",
   "metadata": {},
   "outputs": [
    {
     "name": "stdin",
     "output_type": "stream",
     "text": [
      "Wie alt bist du? 17\n"
     ]
    },
    {
     "data": {
      "text/plain": [
       "True"
      ]
     },
     "execution_count": 19,
     "metadata": {},
     "output_type": "execute_result"
    }
   ],
   "source": [
    "# ToDo: Schreibe ein Programm, das prüft, ob ein Benutzer\n",
    "# älter als 16 ist. Das Programm soll True ausgeben, falls\n",
    "# der Benutzer älter als 16 ist.\n",
    "\n",
    "dein_alter = input(\"Wie alt bist du?\")\n",
    "int(dein_alter) > 16\n"
   ]
  },
  {
   "cell_type": "code",
   "execution_count": 22,
   "id": "09604041-8208-435f-97b7-4be9cd085b6c",
   "metadata": {},
   "outputs": [
    {
     "name": "stdin",
     "output_type": "stream",
     "text": [
      "wie ist das Wetter schoen\n",
      "hast du Zeit nein\n"
     ]
    },
    {
     "name": "stdout",
     "output_type": "stream",
     "text": [
      "wir bleiben zu Hause\n"
     ]
    }
   ],
   "source": [
    "# Schreibe ein Programm, das den not und den and Operator\n",
    "# verwendet.\n",
    "wetter = input(\"wie ist das Wetter\")\n",
    "zeit = input(\"hast du Zeit\")\n",
    "if wetter == \"schoen\" and zeit == \"ja\":\n",
    "    print(\"lass uns nach draussen gehen\")\n",
    "else:\n",
    "    print(\"wir bleiben zu Hause\")"
   ]
  },
  {
   "cell_type": "code",
   "execution_count": null,
   "id": "5816a5f3-2c9b-480f-b387-6895d6cebc99",
   "metadata": {},
   "outputs": [],
   "source": []
  }
 ],
 "metadata": {
  "kernelspec": {
   "display_name": "Python 3 (ipykernel)",
   "language": "python",
   "name": "python3"
  },
  "language_info": {
   "codemirror_mode": {
    "name": "ipython",
    "version": 3
   },
   "file_extension": ".py",
   "mimetype": "text/x-python",
   "name": "python",
   "nbconvert_exporter": "python",
   "pygments_lexer": "ipython3",
   "version": "3.12.6"
  }
 },
 "nbformat": 4,
 "nbformat_minor": 5
}
