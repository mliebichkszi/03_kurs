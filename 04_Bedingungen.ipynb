{
 "cells": [
  {
   "cell_type": "markdown",
   "id": "abcccdb8-0055-477f-a7ee-912bef104f64",
   "metadata": {
    "deletable": false,
    "editable": false
   },
   "source": [
    "# Bedingungen\n",
    "\n",
    "## 🎯 Lernziel\n",
    "In dieser Lektion lernst du **Kontrollfluss** und **Bedingungen** in Computerprogrammen kennen und lernst, wie wie sie funktionieren. Du kannst Programme schreiben, die nur eine bestimmte Aufgabe erledigen, falls eine bestimmte Bedingung erfüllt ist. So kannst du Programme schreiben mit einer komplexeren Logik.\n",
    "\n",
    "## 🚦 Kontrollfluss\n",
    "Der Ausdruck **Kontrollfluss** beschreibt die Reihenfolge, in der Code ausgeführt wird. Normalerweise wird Code einfach von oben nach unten ausgeführt, wie im unteren Beispiel. *Versuche den Output vorauszusagen, bevor du die Zelle ausführst*."
   ]
  },
  {
   "cell_type": "code",
   "execution_count": null,
   "id": "4c7ef22c-4be9-4b59-a4f3-ce59b8f3400b",
   "metadata": {
    "editable": true,
    "slideshow": {
     "slide_type": ""
    },
    "tags": []
   },
   "outputs": [],
   "source": [
    "lieblings_essen = \"Pizza\"\n",
    "\n",
    "print(\"Mein Lieblingsessen ist \" + lieblings_essen)\n",
    "\n",
    "lieblings_essen = \"Vegibowls\"\n",
    "\n",
    "print(\"Ich liebe \" + lieblings_essen)"
   ]
  },
  {
   "cell_type": "markdown",
   "id": "dec7ea3f-cb1c-4691-b88e-0980a82c95f0",
   "metadata": {
    "deletable": false,
    "editable": false
   },
   "source": [
    "Du siehst, dass beide `print()`-Funktionen die Variable `lieblings_essen` zurückgeben. Aber jedes Mal repräsentiert die Variable einen anderen Wert. Das liegt daran, dass wir den Wert der Variable zwischen den beiden print-Funktionen geändert haben.\n",
    "Der Code wird Zeile für Zeile ausgeführt, was noch deutlicher wird, wenn du die Funktion `input()` verwendest, die du bereits kennengelernt hast:"
   ]
  },
  {
   "cell_type": "code",
   "execution_count": null,
   "id": "f1162828-a164-41e8-a855-5ce0d31d8aaa",
   "metadata": {
    "editable": true,
    "slideshow": {
     "slide_type": ""
    },
    "tags": []
   },
   "outputs": [],
   "source": [
    "lieblings_essen = \"Pizza\"\n",
    "\n",
    "print(\"Mein Lieblingsessen ist \" + lieblings_essen)\n",
    "\n",
    "lieblings_essen = input(\"Was ist dein Lieblingsessen?\")\n",
    "\n",
    "print(\"Ich liebe \" + lieblings_essen)"
   ]
  },
  {
   "cell_type": "markdown",
   "id": "12ce09f6-811f-4430-b575-54752c4d943b",
   "metadata": {
    "deletable": false,
    "editable": false
   },
   "source": [
    "Wenn du den obigen Code ausführst, stellst du fest, dass die zweite `print()`-Funktion erst ausgeführt wird, wenn der Benutzer nach der Eingabe in das Eingabefeld die Taste <kbd>Enter</kbd> gedrückt hat. Die gesamte Ausführung des Codes wird angehalten, bis die Funktion `input()` abgeschlossen ist. Erst dann wird der Rest des Codes unterhalb dieser Zeile weiter ausgeführt. \n",
    "Manchmal ist diese Art der Ausführung von oben nach unten nicht das, was wir als Programmierer wollen. Manchmal möchten wir eine Codezeile viele Male wiederholen. Stell dir zum Beispiel eine Digitaluhr vor. Sie sollte die auf dem Bildschirm angezeigte Zeit jede Sekunde aktualisieren.\n",
    "In anderen Fällen möchten wir einen Code nur ausführen, wenn eine bestimmte Bedingung erfüllt ist. Zum Beispiel sollte eine Wetter-App nur dann eine Warnmeldung an den Benutzer senden, wenn es draussen stürmisch ist.\n",
    "Dies sind nur einige Beispiele dafür, wie wir den **Kontrollfluss** unseres Codes ändern möchten. Behalte das im Hinterkopf, da wir später in dieser Lektion darauf zurückkommen werden."
   ]
  },
  {
   "cell_type": "markdown",
   "id": "b5813dc6-90ea-418c-97df-4723d2f1c102",
   "metadata": {
    "deletable": false,
    "editable": false
   },
   "source": [
    "## 🔀 if-else\n",
    "In der Lektion von letzter Woche hast du etwas über Vergleiche und Bool'sche Werte gelernt. Am häufigsten werden diese beim Schreiben von **Bedingungen** benötigt. Eine Bedingung in einem Code ermöglicht es dir, einen Code zu schreiben, der nur ausgeführt wird, **wenn** eine bestimmte Bedingung erfüllt ist. Beispielsweise darf ein Nutzer nur dann ein Produkt auf einer E-Commerce-Website kaufen, wenn er älter als 14 Jahre ist. \n",
    "\n",
    "Lass uns anhand eines einfachen Chatbot-Programms zeigen, wie das aussieht:"
   ]
  },
  {
   "cell_type": "code",
   "execution_count": null,
   "id": "82eabb8a-9b48-4fea-99c1-4d42ca8235d4",
   "metadata": {
    "editable": true,
    "slideshow": {
     "slide_type": ""
    },
    "tags": []
   },
   "outputs": [],
   "source": [
    "print(\"Hallo 👋! Ich bin Laura, dein freundlicher Chatbot!\")\n",
    "benutzer_name = input(\"Wie heisst du?\")\n",
    "print(\"Schön dich kennenzulernen, \" + benutzer_name + \"!\")\n",
    "\n",
    "benutzer_alter = input(\"Wie alt bist du?\")\n",
    "\n",
    "if int(benutzer_alter) > 14:\n",
    "    print(\"Oh du bist aber schon alt!\")\n",
    "else:\n",
    "    print(\"Schön! Du lernst programmieren? Nice!\")"
   ]
  },
  {
   "cell_type": "markdown",
   "id": "3f6bae9f-ba31-4cfd-9eaf-804d5ccc3a87",
   "metadata": {
    "deletable": false,
    "editable": false
   },
   "source": [
    "Führe den obigen Code aus. Achte darauf, die zweite Frage mit einer Zahl zu beantworten. Andernfalls wird der Code unterbrochen (wie in der Lektion über Zahlen beschrieben). Versuche, ihn mehrmals auszuführen, indem du einmal ein Alter unter 14 und einmal ein Alter von 14 oder darüber eingibst. Du wirst sehen, dass in jeder Situation eine andere Meldung ausgegeben wird.\n",
    "\n",
    "Wenn du dir den Code ansiehst, erkennst du, welcher Teil des Codes für die unterschiedliche Ausgabe verantwortlich ist. Es handelt sich um eine sogenannte if-else-Anweisung. Schau dir die vereinfachte Version an:"
   ]
  },
  {
   "cell_type": "code",
   "execution_count": null,
   "id": "f510a3e5-1620-4c87-9432-5335d4e76484",
   "metadata": {
    "editable": true,
    "slideshow": {
     "slide_type": ""
    },
    "tags": []
   },
   "outputs": [],
   "source": [
    "benutzer_alter = 42\n",
    "\n",
    "if benutzer_alter > 14:\n",
    "    print(\"Oh du bist aber schon alt!\")\n",
    "else:\n",
    "    print(\"Schön! Du lernst programmieren? Nice!\")"
   ]
  },
  {
   "cell_type": "markdown",
   "id": "d5c3c479-1af0-4044-b514-b5adf7f55bc5",
   "metadata": {
    "deletable": false,
    "editable": false
   },
   "source": [
    "Wenn der Wert der Variablen `benutzer_alter` (`42`) grösser als `14` ist, wird die erste Meldung ausgegeben. Andernfalls (`else`) wird die zweite Meldung ausgegeben.\n",
    "Du kannst sogar eine Bedingung ohne den Teil `else` schreiben. Schau dir dieses Beispiel an: "
   ]
  },
  {
   "cell_type": "code",
   "execution_count": null,
   "id": "2f8ae193-fab8-44a8-9c0d-abdbf2d66a51",
   "metadata": {
    "editable": true,
    "slideshow": {
     "slide_type": ""
    },
    "tags": []
   },
   "outputs": [],
   "source": [
    "print(\"Hallo 👋! Ich bin Laura, dein freundlicher Chatbot!\")\n",
    "benutzer_name = input(\"Wie heisst du?\")\n",
    "\n",
    "if benutzer_name:\n",
    "    print(\"Schön dich kennenzulernen, \" + benutzer_name)\n",
    "\n",
    "print(\"Also, bis bald!\")"
   ]
  },
  {
   "cell_type": "markdown",
   "id": "0421b5b6-aa0c-4b25-b64b-c885f0c9033f",
   "metadata": {
    "deletable": false,
    "editable": false
   },
   "source": [
    "Führe diesen Code ein paar Mal aus. Gib zunächst einen Namen ein. Gib dann nichts ein, sondern drücke nur die Taste <kbd>Enter</kbd> auf der Tastatur. Beachte, was in jeder Situation ausgegeben wird.\n",
    "\n",
    "Wenn du keinen Text eingibst, bleibt die Variable `benutzer_name` leer, was bedeutet, dass die Zeile „Schön dich kennenzulernen [...]” nicht ausgegeben wird.\n",
    "\n",
    "Wenn Python eine `if`-Anweisung im Code erkennt, überprüft es den Code, der auf `if` folgt, und sieht nach, ob er zu `True` ausgewertet wird. Wie du oben gelernt hast, werden Vergleiche wie `benutzer_alter > 14` zu `True` ausgewertet. Aber was ist mit `benutzer_name` im obigen Beispiel? \n",
    "\n",
    "Wie du gelernt hast, wird eine Zeichenfolge mit einer beliebigen Anzahl von Zeichen als „wahr” angesehen, während eine Zeichenfolge ohne Zeichen als „falsch” angesehen wird. Das bedeutet, wenn „benutzer_name” leer ist, behandelt Python es so, als wäre sein Wert „False”. Wenn es jedoch mindestens ein Zeichen enthält, behandelt Python es als „True”.\n",
    "\n",
    "> 💡 Wenn du längere Ketten mit den Operatoren `and`, `or` und `not` verwendest, achte genau darauf, wie du **Klammern** verwendest oder nicht verwendest. Schau dir die folgenden beiden Beispiele an. Sie führen zu sehr unterschiedlichen Ergebnissen, obwohl die verglichenen Zahlen identisch sind. Was wird angezeigt, wenn du die Zelle ausführst? "
   ]
  },
  {
   "cell_type": "code",
   "execution_count": null,
   "id": "870c442b",
   "metadata": {},
   "outputs": [],
   "source": [
    "if not 3 == 4 and 4 == 5:\n",
    "    print(1)\n",
    "if not (3 == 4 and 4 == 5):\n",
    "    print(2)"
   ]
  },
  {
   "cell_type": "markdown",
   "id": "ba0e8a18-05c3-4139-b4ba-c6be66a037b2",
   "metadata": {
    "deletable": false,
    "editable": false
   },
   "source": [
    "## 🧱 Codeblöcke\n",
    "\n",
    "Bei der Arbeit mit Bedingungen muss Python wissen, welcher Code Teil der Bedingung ist und welcher nicht. Schau diesen Code von zuvor an: "
   ]
  },
  {
   "cell_type": "code",
   "execution_count": null,
   "id": "5d11b12b-8c1b-43e0-bb5b-b91a7ead12ae",
   "metadata": {
    "editable": true,
    "slideshow": {
     "slide_type": ""
    },
    "tags": []
   },
   "outputs": [],
   "source": [
    "print(\"Hallo 👋! Ich bin Laura, dein freundlicher Chatbot!\")\n",
    "benutzer_name = input(\"Wie heisst du?\")\n",
    "\n",
    "if benutzer_name:\n",
    "    print(\"Schön dich kennenzulernen, \" + benutzer_name)\n",
    "\n",
    "print(\"Also, bis bald!\")"
   ]
  },
  {
   "cell_type": "markdown",
   "id": "228fe144-5078-4cfe-8c21-186e62cc7e1e",
   "metadata": {
    "deletable": false,
    "editable": false
   },
   "source": [
    "Woher weiss Python, dass die letzte `print()`-Anweisung nicht mehr Teil der Bedingung ist und trotzdem ausgegeben werden soll?\n",
    "\n",
    "Vielleicht hast du die Antwort bereits anhand der Struktur des Codes erraten. Programmiersprachen haben verschiedene Methoden, um **Code** in sogenannte **Blöcke** zu gruppieren. Ein Codeblock ist eine Gruppe von einer oder mehreren Codezeilen, die alle zusammengehören. In if-Anweisungen definiert ein Codeblock, welcher Code nur ausgeführt werden soll, wenn eine bestimmte Bedingung erfüllt ist. Andernfalls wird der Codeblock ignoriert.\n",
    "\n",
    "In Python werden Codeblöcke durch **Einrückungen** (Indentations) definiert. (Andere Programmiersprachen verwenden Klammern oder bestimmte Sonderzeichen.)\n",
    "\n",
    ">💡 **Es ist wichtig, sich daran zu erinnern**: In Python hat es funktionale Auswirkungen, ob Code eingerückt ist oder nicht!\n",
    ">\n",
    ">Am häufigsten werden Einrückungen mit der <kbd>Tab</kbd>-Taste vorgenommen, aber es funktioniert auch mit zwei oder vier Leerzeichen (ein einzelnes Leerzeichen funktioniert jedoch nicht).\n",
    "\n",
    "Einrückungen allein reichen jedoch nicht aus. Am Ende der `if`- und `else`-Anweisungen siehst du ausserdem einen Doppelpunkt (`:`). Diese Doppelpunkte sind wichtig, da sie Python mitteilen: „Jetzt folgt ein Codeblock.“ Python betrachtet alle eingerückten Zeilen unterhalb eines Doppelpunkts als Teil des Codeblocks. Sobald eine Zeile wieder nicht eingerückt ist, betrachtet Python den Block als beendet.\n",
    "\n",
    "Du kannst sogar **verschachtelte Blöcke** erstellen – das bedeutet, dass ud einen Block innerhalb eines Blocks innerhalb eines Blocks innerhalb eines Blocks schreiben kannst ..."
   ]
  },
  {
   "cell_type": "code",
   "execution_count": null,
   "id": "12000ce6-81b6-4985-b4a8-7e8f8f29e36b",
   "metadata": {
    "editable": true,
    "slideshow": {
     "slide_type": ""
    },
    "tags": []
   },
   "outputs": [],
   "source": [
    "print(\"Hallo 👋! Ich bin Laura, dein freundlicher Chatbot!\")\n",
    "benutzer_name = input(\"Wie heisst du?\")\n",
    "\n",
    "if benutzer_name:\n",
    "    if benutzer_name == \"Laura\":\n",
    "        print(\"So lustig, ich heisse gleich!\")\n",
    "    else:\n",
    "        print(\"Was für ein wunderschöner Name!\")\n",
    "else:\n",
    "    print(\"Ok. Kein Problem, wenn du mir nicht deinen Namen sagen möchtest.\")"
   ]
  },
  {
   "cell_type": "markdown",
   "id": "afae3a4b",
   "metadata": {
    "deletable": false,
    "editable": false
   },
   "source": [
    "Führe den obigen Code einige Male aus, um alle möglichen Ausgaben von `print()` zu erhalten. Wie immer kannst du den Code gerne bearbeiten und ändern, um zu sehen, wie er funktioniert.\n",
    "\n",
    "Versuche dann die folgende Übung. Du siehst, dass zwei Variablen definiert sind: `lieblings_essen` (die auf „Pizza” gesetzt ist) und `antwort` (die auf eine leere Zeichenfolge „” gesetzt ist). Es gibt auch einige automatisierte Tests. \n",
    "\n",
    "Schreibe eine if-else-Anweisung. Wenn die Variable `lieblings_essen` gleich `„Pizza“` ist, setzt du die `antwort` auf eine beliebige Zeichenkette (z. B. „Ich mag Pizza auch!“). Wenn sie nicht „Pizza“ ist, setzt du sie auf eine andere Meldung (z. B. „Das ist auch ein leckeres Essen!“).\n",
    "\n",
    "Der automatisierte Test ist nur dann erfolgreich, wenn du die Variable „antwort“ innerhalb einer if-else-Anweisung auf verschiedene Werte setzt. Probiere die verschiedenen Teile aus und schau, was passiert. Auch hier gilt: Hab keine Angst, etwas kaputt zu machen! "
   ]
  },
  {
   "cell_type": "code",
   "execution_count": null,
   "id": "d791d754-8a3f-46cc-bba9-eb4c2cf3a826",
   "metadata": {
    "editable": true,
    "slideshow": {
     "slide_type": ""
    },
    "tags": []
   },
   "outputs": [],
   "source": [
    "lieblings_essen = \"Pizza\"\n",
    "antwort = \"\"\n",
    "\n",
    "# 👇 TODO: Schreibe deinen Code unterhalb dieser Zeile\n",
    "\n",
    "\n",
    "\n",
    "\n",
    "\n",
    "\n",
    "\n",
    "\n",
    "# 👆 Schreibe deinen Code überhalb dieser Zeile (verändere nichts, was hier unten folgt)\n",
    "\n",
    "print(antwort)\n",
    "\n",
    "# ===============================\n",
    "# Automatisierter Test\n",
    "# ===============================\n",
    "\n",
    "print(\"\\n---\\n⚙️ Automatisierte Test-Resultate: \\n---\")\n",
    "print(\"❌ Antwort scheint nicht verändert zu sein\" if not antwort else \"☑️ Test ok.\")"
   ]
  },
  {
   "cell_type": "markdown",
   "id": "b4a29f18",
   "metadata": {
    "deletable": false,
    "editable": false
   },
   "source": [
    "<details>\n",
    "<summary style=\"border: 1px solid; border-radius: 3px; padding: 5px; display: inline-block; cursor: pointer;\">\n",
    "💡 Tipp\n",
    "</summary>\n",
    "<p>\n",
    "\n",
    "- Vergiss nicht einzurücken mit einem Tab oder 2 bis 4 Leerschlägen.\n",
    "- Vergiss die Doppelpunkte nicht.\n",
    "- Du kannst Variablen innerhalb if/else Statements so schreiben: \n",
    "\n",
    "```python\n",
    "if 3 > 2:\n",
    "  meine_variable = \"Es klappt!\"\n",
    "```\n",
    "\n",
    "</p>\n",
    "</details>"
   ]
  },
  {
   "cell_type": "markdown",
   "id": "11db11e0-bc6a-49aa-bb8f-c179d84761e6",
   "metadata": {
    "deletable": false,
    "editable": false
   },
   "source": [
    "Okay. Üben wir nun, weitere Bedingungen von Grund auf zu schreiben.\n",
    "\n",
    "In der Zelle darunter haben wir mit der Erstellung eines Chatbots begonnen, der Essensbestellungen entgegennimmt. Vervollständige den Code mit den folgenden Funktionen:\n",
    "\n",
    "Überprüfe, ob der Benutzer eine Bestellung eingegeben hat. Wenn der Benutzer keine Bestellung eingegeben hat, gib eine Fehlermeldung aus, die den Benutzer darauf hinweist, dass er eine Bestellung eingeben muss. Wenn der Benutzer eine Bestellung aufgegeben hat, gib mit print() eine Meldung aus, die die aufgegebene Bestellung bestätigt.\n",
    "Erstelle nur dann, wenn eine Bestellung aufgegeben wurde, eine neue Variable namens „anzahl” und weise sie einer input()-Funktion zu. Frage den Benutzer, wie viele Mahlzeiten er möchte, und speichere das Ergebnis in der Variable „anzahl”.\n",
    "Wenn der Betrag „wahr” ist, gib die Meldung aus, die dem Benutzer mitteilt, welche Mahlzeit er bestellt hat und wie oft. Andernfalls gib die Meldung „Oh, dann storniere ich die Bestellung” aus."
   ]
  },
  {
   "cell_type": "code",
   "execution_count": null,
   "id": "7367eb0f-a98b-4e6a-9514-7249d23c353a",
   "metadata": {
    "editable": true,
    "slideshow": {
     "slide_type": ""
    },
    "tags": []
   },
   "outputs": [],
   "source": [
    "print(\"Hallo 👋! Ich bin Ron, dein Food-Chatbot deines Lieblingsrestaurants!\")\n",
    "food_bestellung = input(\"Was für ein Menu möchtest du bestellen?\")\n",
    "\n",
    "# 👇  Schreibe deinen Code hier unten:\n",
    "\n",
    "\n"
   ]
  },
  {
   "attachments": {},
   "cell_type": "markdown",
   "id": "8d3e9c0a-1f9f-42c9-834d-1caa94e42594",
   "metadata": {
    "deletable": false,
    "editable": false
   },
   "source": [
    "<details>\n",
    "<summary style=\"border: 1px solid; border-radius: 3px; padding: 5px; display: inline-block; cursor: pointer;\">\n",
    "💡 Tipp\n",
    "</summary>\n",
    "<p>\n",
    "\n",
    "1. Um zu überprüfen, ob eine Variable existiert, musst du Schauen, ob sie „wahrheitsgemäss” ist. Dazu musst du lediglich `if variablen_name:` schreiben und `variablen_name` durch den Namen der Variable ersetzen, die du überprüfen möchtest. Vergiss nicht, dass am Ende der `if`-Anweisung ein Doppelpunkt `:` stehen muss. Achte auch genau auf die Einrückung.\n",
    "2. Du kannst viele Zeilen Code innerhalb eines einzigen Codeblocks hinzufügen. Um also eine neue Variable `anzahl` innerhalb der Bedingung zu erstellen, stell sicher, dass sie direkt unter der `if`-Anweisung eingerückt ist. Hier ist ein Beispiel, bei dem die Variable `benutzer_alter` nur erstellt wird, **wenn** die Variable `benutzer_alter` wahr ist (d. h. wenn ihr Daten zugewiesen sind):\n",
    "\n",
    "```python\n",
    "if benutzer_name:\n",
    "    benutzer_alter = input(„Wie alt bist du?“)\n",
    "```\n",
    "\n",
    "3. Du kannst Bedingungen innerhalb von Bedingungen schreiben. Achte darauf, dass der Codeblock der zweiten Bedingung **zweimal** eingerückt ist, wie in der letzten Zeile des folgenden Beispiels:\n",
    "\n",
    "```python\n",
    "if benutzer_name: \n",
    "    benutzer_alter = input(„Wie alt bist du?“)\n",
    "    if benutzer_alter: \n",
    "        print(benutzer_alter)\n",
    "```\n",
    "\n",
    "</p>\n",
    "</details>"
   ]
  },
  {
   "cell_type": "markdown",
   "id": "2a47e305-fd93-4325-bdb9-1d6ca04293c6",
   "metadata": {
    "deletable": false,
    "editable": false
   },
   "source": [
    "Wenn du auf Probleme stösst, versuche zunächst, die Fehlermeldung zu verstehen. Vergleiche ausserdem deinen Versuch mit den oben aufgeführten Beispielcode-Ausschnitten. Und schliesslich kannst du eine AI (oder die Suche auf info.kszi.dev) verwenden, um herauszufinden, wo du möglicherweise einen Fehler gemacht hast.\n",
    "\n",
    "Kehren wir für die letzte Übung zum Temperaturmessumformer zurück. Unser Code sieht bisher in etwa so aus:"
   ]
  },
  {
   "cell_type": "code",
   "execution_count": null,
   "id": "f42e5845-ff35-4812-816e-d3a4a9ad30f1",
   "metadata": {
    "editable": true,
    "slideshow": {
     "slide_type": ""
    },
    "tags": []
   },
   "outputs": [],
   "source": [
    "fahrenheit = input(\"Fahrenheit:\")\n",
    "\n",
    "celsius = (int(fahrenheit) - 32) * 5/9\n",
    "\n",
    "print(celsius)"
   ]
  },
  {
   "cell_type": "markdown",
   "id": "86b550d2-4c67-4807-b0cf-a0440a379465",
   "metadata": {
    "deletable": false,
    "editable": false
   },
   "source": [
    "Der Code funktioniert, wenn du eine Zahl eingibst. Wenn du jedoch andere Zeichen eingibst, funktioniert er nicht mehr. Das liegt daran, dass `int()`, das du kennengelernt hast, eine Zeichenfolge nur dann in Zahlen umwandeln kann, wenn die Zeichenfolge ausschliesslich Ziffern enthält. \n",
    "\n",
    "Wie können wir also ein Programm schreiben, das dieses potenzielle Problem berücksichtigt?\n",
    "\n",
    "Eine Möglichkeit besteht darin, das oben Gelernte mit einer weiteren integrierten Funktion von Python zu kombinieren: `.isnumeric()` \n",
    "\n",
    "Dies ist eine Funktion (oder genau genommen eine **Methode**; siehe unten), die du an eine Zeichenkette (oder eine Variable, die eine Zeichenkette darstellt) _anhängen_ kannst und die entweder `True` oder `False` zurückgibt, je nachdem, ob der Inhalt der Zeichenkette eine **positive ganze Zahl** ist, d. h. ob sie **numerisch** ist oder nicht.\n",
    "\n",
    ">💡**Was sind „Methoden”?**\n",
    "- Methoden sind eine spezielle Art von **Funktionen** (Du erinnerst dich, dass `print()` und `input()` Funktionen sind), die mit bestimmten Objekten in Ihrem Code arbeiten. Die Methode `.isnumeric()` arbeitet beispielsweise mit Zeichenfolgen. \n",
    "\n",
    "- Während eine Funktion immer von Klammern gefolgt wird, erkennen Sie eine Methode daran, dass sie mit einem Punkt `.` beginnt _und_ von Klammern `()` gefolgt wird.\n",
    "\n",
    "- Du rufst eine Methode auf, indem du sie mit Hilfe der sogenannten **Punktnotation** an das gewünschte Objekt anhängst. Du kannst also `.isnumeric()` aufrufen, indem du es an eine beliebige Zeichenkette oder Variable anhängst. Es darf **vor und nach dem Punkt kein Leerzeichen stehen**, wie hier: `variable_with_numbers.isnumeric()` oder `„3456“.isnumeric()`\n",
    "\n",
    "- Mach dir jetzt noch keine Gedanken darüber, alle Begriffe auswendig zu lernen. Aber du wirst wahrscheinlich auf das Wort \"Methode\" wieder treffen, deshalb ist es nützlich dass du weisst dass es sich um eine Art Funktion handelt, die du auf ein bestimmtes Objekt im Code anwenden kannst.\n",
    "\n",
    "- Wie bei Funktionen gibt es auch bei Methoden einige, die in der Programmiersprache Python vordefiniert sind, aber es ist auch möglich, eigene Methoden zu erstellen (das Erlernen dieser Vorgehensweise würde jedoch den Rahmen dieser Lektion sprengen!).\n",
    "\n",
    "Schau dir diese Codezellen an und versuche zu erraten, ob sie „True“ oder „False“ zurückgeben, bevor du sie ausführst:"
   ]
  },
  {
   "cell_type": "code",
   "execution_count": null,
   "id": "122275e4-342e-4a5b-bafa-a8c3f61a9405",
   "metadata": {
    "editable": true,
    "slideshow": {
     "slide_type": ""
    },
    "tags": []
   },
   "outputs": [],
   "source": [
    "\"this is not a number\".isnumeric()"
   ]
  },
  {
   "cell_type": "code",
   "execution_count": null,
   "id": "dfcb7ddb-fe9a-4670-b288-f14f988aa228",
   "metadata": {
    "editable": true,
    "slideshow": {
     "slide_type": ""
    },
    "tags": []
   },
   "outputs": [],
   "source": [
    "\"42\".isnumeric()"
   ]
  },
  {
   "cell_type": "code",
   "execution_count": null,
   "id": "7002acd1-7b65-41a2-9d44-85e3b7d4e2de",
   "metadata": {
    "editable": true,
    "slideshow": {
     "slide_type": ""
    },
    "tags": []
   },
   "outputs": [],
   "source": [
    "zahl = \"1\"\n",
    "\n",
    "zahl.isnumeric()"
   ]
  },
  {
   "cell_type": "markdown",
   "id": "fcdd65e3-da6f-469d-8952-9d3462bf6c55",
   "metadata": {
    "deletable": false,
    "editable": false
   },
   "source": [
    "Schreib jetzt mit diesem neu erworbenen Wissen den Temperaturmessungsumrechner neu. Du kannst den bisher geschriebenen Code kopieren und einfügen, musst in aber so bearbeiten, dass er nur dann den Celsius-Wert berechnet und ausgibt, wenn die Variable „fahrenheit” eine positive ganze Zahl ist. Ist dies nicht der Fall, sollte eine Meldung an den Benutzer zurückgegeben werden, eine positive ganze Zahl einzugeben."
   ]
  },
  {
   "cell_type": "code",
   "execution_count": null,
   "id": "b62622ec-3ed0-4585-a04f-ca3f917b7989",
   "metadata": {
    "editable": true,
    "slideshow": {
     "slide_type": ""
    },
    "tags": []
   },
   "outputs": [],
   "source": [
    "fahrenheit = input(\"Fahrenheit:\")\n",
    "\n",
    "# 👇 Schreibe deinen Code ab hier:\n",
    "\n",
    "\n",
    "\n",
    "\n"
   ]
  },
  {
   "attachments": {},
   "cell_type": "markdown",
   "id": "3f50b9bd-f66b-4994-9aeb-7ca00d4c3ec7",
   "metadata": {
    "deletable": false,
    "editable": false
   },
   "source": [
    "<details>\n",
    "<summary style=\"border: 1px solid; border-radius: 3px; padding: 5px; display: inline-block; cursor: pointer;\">\n",
    "💡 Tipp\n",
    "</summary>\n",
    "<p>\n",
    "\n",
    "- Vergiss nicht den Doppelpunkt `:` nach den Anweisungen `if` und `else` und die richtigen Zeilen einzurücken.\n",
    "- Die Zuweisung der Variablen `celsius` sollte nur innerhalb des `if`-Codeblocks erfolgen. \n",
    "- Die Anweisung `if` sollte mit der Funktion `.isnumeric()` überprüfen, ob `fahrenheit` eine Zahl ist.\n",
    "    \n",
    "</p>\n",
    "</details>"
   ]
  },
  {
   "cell_type": "markdown",
   "id": "ae446e6d",
   "metadata": {
    "deletable": false,
    "editable": false
   },
   "source": [
    "## ↩️ elif („else if“)\n",
    "\n",
    "Es gibt noch einen weiteren Aspekt von Bedingungen, den wir noch nicht behandelt haben. Das ist dieses Szenario: „Wenn die erste Bedingung wahr ist, mache das eine. Wenn das nicht wahr ist, aber diese andere Bedingung wahr ist, mache das andere. Und nur wenn keines von beiden wahr ist, mache das dritte.“\n",
    "\n",
    "Mit dem Schlüsselwort `elif` (kurz für „else if“) kannst du verschiedene if-else-Anweisungen verketten. Schau dir dieses Beispiel an und überleg dir, welche der `print()`-Anweisungen ausgegeben werden. Wenn du es herausgefunden hast, führe den Code aus:"
   ]
  },
  {
   "cell_type": "code",
   "execution_count": null,
   "id": "84eedc51",
   "metadata": {},
   "outputs": [],
   "source": [
    "if 3 < 2:\n",
    "  print(\"Das macht keinen Sinn!\")\n",
    "elif 2 < 2: \n",
    "  print(\"Das macht immer noch keinen Sinn!\")\n",
    "else:\n",
    "  print(\"Mach es zu was Sinnvollem!\")"
   ]
  },
  {
   "cell_type": "markdown",
   "id": "03fc116e",
   "metadata": {
    "deletable": false,
    "editable": false
   },
   "source": [
    "Füg nun eine weitere `elif`-Anweisung mit einem neuen `print()` hinzu. Achte darauf, diese direkt über der `else`-Anweisung einzufügen. Ohne die vorhandenen Anweisungen zu ändern, sorge dafür, dass deine neue `print()`-Anweisung ausgegeben wird."
   ]
  },
  {
   "cell_type": "markdown",
   "id": "28c00681",
   "metadata": {
    "deletable": false,
    "editable": false
   },
   "source": [
    "<details>\n",
    "<summary style=\"border: 1px solid; border-radius: 3px; padding: 5px; display: inline-block; cursor: pointer;\">\n",
    "💡 Tipp\n",
    "</summary>\n",
    "<p>\n",
    "\n",
    "Du kannst mehrere `elif`-Anweisungen wie folgt verketten: \n",
    "\n",
    "```python\n",
    "if 2 > 2:\n",
    "  print(„dies wird nicht ausgeführt“)\n",
    "elif 2 < 2:\n",
    "  print(„dies wird nicht ausgeführt“)\n",
    "elif 2 + 2 == 4:\n",
    "  print(„dies wird ausgeführt“)\n",
    "else:\n",
    "  print(„dies wird nicht ausgeführt“)\n",
    "```\n",
    "<br>\n",
    "Achte unbedingt auf die Einrückungen und die Doppelpunkte. \n",
    "\n",
    "</p>\n",
    "</details>"
   ]
  },
  {
   "cell_type": "markdown",
   "id": "bc40e80d",
   "metadata": {
    "deletable": false,
    "editable": false
   },
   "source": [
    "Kommen wir nun zurück zum Chatbot für die Essensbestellung. Nehmen wir an, du hast den Teil des Codes, der die Bestellung erfasst, bereits geschrieben. Wir konzentrieren uns nun nur darauf, dass der Benutzer die Menge auswählen kann. \n",
    "\n",
    "Verwende `elif`, um die folgende Bedingung zu schreiben:\n",
    "\n",
    "- Die erste Bedingung sollte eine Meldung anzeigen, wenn die Eingabe des Benutzers **nicht** numerisch ist\n",
    "- Die zweite Bedingung sollte eine Meldung anzeigen, wenn die Bestellung des Benutzers `0` ist.\n",
    "- Die dritte Bedingung sollte eine Meldung anzeigen, wenn die Bestellung zu hoch ist – sagen wir größer als 10.\n",
    "- Wenn keine dieser Bedingungen zutrifft, antworte dem Benutzer schliesslich, dass die Bestellung aufgenommen wurde.\n",
    "\n",
    "Führe all dies in der folgenden Codezelle aus.\n",
    "\n",
    "_(Übrigens: Genau so funktionieren viele Formularvalidierungen in Software. Wenn du versuchst, ein Online-Formular auszufüllen, und eine Meldung erhältst, dass du etwas an der Eingabe ändern mussst, handelt es sich wahrscheinlich um einen Code, der dem ähnelt, den du gerade schreibst.)_"
   ]
  },
  {
   "cell_type": "code",
   "execution_count": null,
   "id": "2e416fe4",
   "metadata": {},
   "outputs": [],
   "source": [
    "print(\"Du möchtest also Pizza bestellen!\")\n",
    "bestell_menge = input(\"Wieviele Pizzen möchtest du bestellen?\")\n",
    "\n",
    "# 👇 Schreibe deinen Code unterhalb:\n",
    "\n",
    "\n"
   ]
  },
  {
   "cell_type": "markdown",
   "id": "e27fac07",
   "metadata": {
    "deletable": false,
    "editable": false
   },
   "source": [
    "<details>\n",
    "<summary style=\"border: 1px solid; border-radius: 3px; padding: 5px; display: inline-block; cursor: pointer;\">\n",
    "💡 Tipp\n",
    "</summary>\n",
    "<p>\n",
    "\n",
    "Manchmal ist es etwas kontraintuitiv, die effizienteste Art von Bedingung in Code zu schreiben. Man könnte meinen, man beginne mit der „funktionierenden” Bedingung (d. h. dass der Benutzer eine Zahl zwischen 1 und 9 eingibt). In diesem Szenario ist es jedoch sinnvoller, zu überprüfen, ob eine Bedingung **nicht** wahr ist. Dazu musst du den Operator `not`, den Bang-Operator `!=` oder den bool'schen Wert `False` verwenden.\n",
    "\n",
    "Nehmen wir an, du beginnst mit folgendem Code:\n",
    "\n",
    "```python\n",
    "\n",
    "if bestell_menge.isnumeric():\n",
    "  print(„Grossartig! Bestellung wurde abgeschickt“)\n",
    "elif bestell_menge == 0:\n",
    "  print(„Du musst mindestens eine Pizza bestellen!“)\n",
    "```\n",
    "<br>\n",
    "In diesem Beispiel würde die zweite print-Anweisung nicht ausgeführt werden, selbst wenn der Benutzer 0 eingibt, da 0 eine Zahl ist und somit die erste Bedingung bereits erfüllt ist und die zweite Bedingung nicht überprüft wird. \n",
    "\n",
    "Aus diesem Grund ist es manchmal sinnvoller, die umgekehrte Bedingung zu überprüfen, damit du mehrere Bedingungen hintereinander überprüfen kannst. Beispiel:\n",
    "\n",
    "```python\n",
    "\n",
    "if bestell_menge.isnumeric() == False:\n",
    "    print(„Du musst eine Zahl eingeben!“)\n",
    "elif bestell_menge == „0“:\n",
    "    print(„Du musst mindestens eine Pizza bestellen!“)\n",
    "```\n",
    "</p>\n",
    "</details>"
   ]
  },
  {
   "attachments": {},
   "cell_type": "markdown",
   "id": "6da82543-a11e-402b-a002-581197242e29",
   "metadata": {
    "deletable": false,
    "editable": false
   },
   "source": [
    "## 🏡 Übungsaufgabe\n",
    "\n",
    "Du hast nun eines der wichtigsten Programmierkonzepte kennengelernt: Bedingungen. Bedingungen sind der Grundbaustein der meisten Programmierlogiken. Mit ihnen kannst du leistungsstarke Software erstellen und auf Benutzereingaben reagieren.\n",
    "\n",
    "Um dies weiter zu üben, erstelle eine neue Python-Datei auf deinem Computer. Baue die Chatbot-Idee weiter aus um komplexere Unterhaltungen zu erstellen. Überlege dir verschiedene Antworten und Reaktionen basierend auf den Eingaben des Benutzers. \n",
    "\n",
    "Beispiel:\n",
    "- Schreibe einen Chatbot, der unterschiedlich auf verschiedene Arten von Essensbestellungen reagiert.\n",
    "- Schreibe eine Bedingung, die überprüft, ob der Benutzer mindestens ein Zeichen für den Namen der Bestellung eingegeben hat.\n",
    "- Schreibe eine Bedingung, die überprüft, ob die Länge der Bestellzeichenfolge eine bestimmte Länge nicht überschreitet.\n",
    "\n",
    "Alternativ kannst du versuchen, eine sehr einfache Version eines Textadventures zu entwickeln, wie das klassische [Zork](https://de.wikipedia.org/wiki/Zork) / [Zork spielen](https://www.pcjs.org/software/pcx86/game/infocom/zork1/) oder andere interaktive Geschichten. \n",
    "\n",
    "Himm dir etwas Zeit dafür, um dich an das Schreiben längerer und komplexerer Codes zu gewöhnen."
   ]
  }
 ],
 "metadata": {
  "kernelspec": {
   "display_name": "Python 3 (ipykernel)",
   "language": "python",
   "name": "python3"
  },
  "language_info": {
   "codemirror_mode": {
    "name": "ipython",
    "version": 3
   },
   "file_extension": ".py",
   "mimetype": "text/x-python",
   "name": "python",
   "nbconvert_exporter": "python",
   "pygments_lexer": "ipython3",
   "version": "3.12.6"
  }
 },
 "nbformat": 4,
 "nbformat_minor": 5
}
